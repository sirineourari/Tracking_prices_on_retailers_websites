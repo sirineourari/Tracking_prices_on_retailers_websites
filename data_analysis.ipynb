{
  "nbformat": 4,
  "nbformat_minor": 0,
  "metadata": {
    "colab": {
      "name": "data_analysis.ipynb",
      "provenance": [],
      "collapsed_sections": []
    },
    "kernelspec": {
      "name": "python3",
      "display_name": "Python 3"
    },
    "language_info": {
      "name": "python"
    }
  },
  "cells": [
    {
      "cell_type": "markdown",
      "metadata": {
        "id": "xaL0G36EpcIa"
      },
      "source": [
        "#Data Analysis\n",
        "After collecting the data from retailers websites, we are going to explore it and have a close idea about it."
      ]
    },
    {
      "cell_type": "code",
      "metadata": {
        "id": "qBbV_2HM5oJA"
      },
      "source": [
        "import pandas as pd \n",
        "from matplotlib import pyplot as plt\n",
        "import numpy as np\n",
        "import seaborn as sns "
      ],
      "execution_count": 111,
      "outputs": []
    },
    {
      "cell_type": "code",
      "metadata": {
        "id": "w0kDXwMSuwQ4"
      },
      "source": [
        "df = pd.read_csv('preprocessed_dataset.csv')"
      ],
      "execution_count": 112,
      "outputs": []
    },
    {
      "cell_type": "code",
      "metadata": {
        "colab": {
          "base_uri": "https://localhost:8080/",
          "height": 203
        },
        "id": "2vOtB8bDu2t9",
        "outputId": "589acce5-7294-4edc-eaa3-cf0c504e0098"
      },
      "source": [
        "df.head()"
      ],
      "execution_count": 113,
      "outputs": [
        {
          "output_type": "execute_result",
          "data": {
            "text/html": [
              "<div>\n",
              "<style scoped>\n",
              "    .dataframe tbody tr th:only-of-type {\n",
              "        vertical-align: middle;\n",
              "    }\n",
              "\n",
              "    .dataframe tbody tr th {\n",
              "        vertical-align: top;\n",
              "    }\n",
              "\n",
              "    .dataframe thead th {\n",
              "        text-align: right;\n",
              "    }\n",
              "</style>\n",
              "<table border=\"1\" class=\"dataframe\">\n",
              "  <thead>\n",
              "    <tr style=\"text-align: right;\">\n",
              "      <th></th>\n",
              "      <th>Product</th>\n",
              "      <th>Price</th>\n",
              "      <th>category</th>\n",
              "      <th>Filename</th>\n",
              "      <th>Retailer</th>\n",
              "    </tr>\n",
              "  </thead>\n",
              "  <tbody>\n",
              "    <tr>\n",
              "      <th>0</th>\n",
              "      <td>NAFNAF Blue Cotton-blend skinny pants</td>\n",
              "      <td>3.0</td>\n",
              "      <td>pants</td>\n",
              "      <td>drest.csv</td>\n",
              "      <td>drest</td>\n",
              "    </tr>\n",
              "    <tr>\n",
              "      <th>1</th>\n",
              "      <td>Black puff sleeve denim blouse dress</td>\n",
              "      <td>3.0</td>\n",
              "      <td>dresses</td>\n",
              "      <td>drest.csv</td>\n",
              "      <td>drest</td>\n",
              "    </tr>\n",
              "    <tr>\n",
              "      <th>2</th>\n",
              "      <td>NAFNAF Handbag mauve</td>\n",
              "      <td>3.0</td>\n",
              "      <td>accessories</td>\n",
              "      <td>drest.csv</td>\n",
              "      <td>drest</td>\n",
              "    </tr>\n",
              "    <tr>\n",
              "      <th>3</th>\n",
              "      <td>NAFNAF FLUID T-SHIRT WITH LACE TRIM</td>\n",
              "      <td>3.0</td>\n",
              "      <td>t-shirts</td>\n",
              "      <td>drest.csv</td>\n",
              "      <td>drest</td>\n",
              "    </tr>\n",
              "    <tr>\n",
              "      <th>4</th>\n",
              "      <td>RIVER ISLAND -Brown spot cropped blazer</td>\n",
              "      <td>3.0</td>\n",
              "      <td>blazers</td>\n",
              "      <td>drest.csv</td>\n",
              "      <td>drest</td>\n",
              "    </tr>\n",
              "  </tbody>\n",
              "</table>\n",
              "</div>"
            ],
            "text/plain": [
              "                                   Product  Price  ...   Filename Retailer\n",
              "0    NAFNAF Blue Cotton-blend skinny pants    3.0  ...  drest.csv    drest\n",
              "1     Black puff sleeve denim blouse dress    3.0  ...  drest.csv    drest\n",
              "2                     NAFNAF Handbag mauve    3.0  ...  drest.csv    drest\n",
              "3      NAFNAF FLUID T-SHIRT WITH LACE TRIM    3.0  ...  drest.csv    drest\n",
              "4  RIVER ISLAND -Brown spot cropped blazer    3.0  ...  drest.csv    drest\n",
              "\n",
              "[5 rows x 5 columns]"
            ]
          },
          "metadata": {
            "tags": []
          },
          "execution_count": 113
        }
      ]
    },
    {
      "cell_type": "markdown",
      "metadata": {
        "id": "attf-ogDu6Ar"
      },
      "source": [
        "We are going to see how many articles we have for each category."
      ]
    },
    {
      "cell_type": "code",
      "metadata": {
        "colab": {
          "base_uri": "https://localhost:8080/"
        },
        "id": "TnGKPz3nxRal",
        "outputId": "a2ac7693-3d5a-4c86-c3c9-657323c8fb92"
      },
      "source": [
        "df['category'].value_counts()"
      ],
      "execution_count": 114,
      "outputs": [
        {
          "output_type": "execute_result",
          "data": {
            "text/plain": [
              "dresses        218\n",
              "pants          216\n",
              "accessories    205\n",
              "t-shirts       171\n",
              "blazers        166\n",
              "shoes          145\n",
              "sweatshirts     27\n",
              "perfumes        16\n",
              "Name: category, dtype: int64"
            ]
          },
          "metadata": {
            "tags": []
          },
          "execution_count": 114
        }
      ]
    },
    {
      "cell_type": "markdown",
      "metadata": {
        "id": "3053hkbyBylc"
      },
      "source": [
        "Now, our goal is to make a bar plot in which we represent each category with the number of articles we have."
      ]
    },
    {
      "cell_type": "code",
      "metadata": {
        "id": "_JUCfzsOvtAb"
      },
      "source": [
        "list_categories=[]\n",
        "list_counts=[]"
      ],
      "execution_count": 115,
      "outputs": []
    },
    {
      "cell_type": "code",
      "metadata": {
        "id": "VZsrSCKAv956"
      },
      "source": [
        "for idx,name in enumerate(df['category'].value_counts().index.tolist()):\n",
        "  list_categories.append(name)\n",
        "  list_counts.append(df['category'].value_counts()[idx])"
      ],
      "execution_count": 116,
      "outputs": []
    },
    {
      "cell_type": "code",
      "metadata": {
        "colab": {
          "base_uri": "https://localhost:8080/"
        },
        "id": "KY4fJfnfwIPn",
        "outputId": "293cfe93-45d0-45bf-9928-d49467f6470e"
      },
      "source": [
        "list_categories"
      ],
      "execution_count": 117,
      "outputs": [
        {
          "output_type": "execute_result",
          "data": {
            "text/plain": [
              "['dresses',\n",
              " 'pants',\n",
              " 'accessories',\n",
              " 't-shirts',\n",
              " 'blazers',\n",
              " 'shoes',\n",
              " 'sweatshirts',\n",
              " 'perfumes']"
            ]
          },
          "metadata": {
            "tags": []
          },
          "execution_count": 117
        }
      ]
    },
    {
      "cell_type": "code",
      "metadata": {
        "colab": {
          "base_uri": "https://localhost:8080/"
        },
        "id": "sxBdmLW5wY9I",
        "outputId": "fd26eb24-b986-412b-8e45-2dea2b97d1ed"
      },
      "source": [
        "list_counts"
      ],
      "execution_count": 118,
      "outputs": [
        {
          "output_type": "execute_result",
          "data": {
            "text/plain": [
              "[218, 216, 205, 171, 166, 145, 27, 16]"
            ]
          },
          "metadata": {
            "tags": []
          },
          "execution_count": 118
        }
      ]
    },
    {
      "cell_type": "code",
      "metadata": {
        "id": "kD_-lrWWytkJ"
      },
      "source": [
        "list_categories.reverse()\n"
      ],
      "execution_count": 119,
      "outputs": []
    },
    {
      "cell_type": "code",
      "metadata": {
        "id": "SUFE99J3zCYI"
      },
      "source": [
        "list_counts.reverse()"
      ],
      "execution_count": 120,
      "outputs": []
    },
    {
      "cell_type": "code",
      "metadata": {
        "id": "r6rbZxSy1AOP"
      },
      "source": [
        "plt.style.use('seaborn')"
      ],
      "execution_count": 121,
      "outputs": []
    },
    {
      "cell_type": "code",
      "metadata": {
        "colab": {
          "base_uri": "https://localhost:8080/",
          "height": 405
        },
        "id": "RTTNRgbRxKh5",
        "outputId": "1aed4306-1ea9-4bd5-b3cc-7de7ff911e75"
      },
      "source": [
        "plt.barh(list_categories,list_counts)\n",
        "plt.title(\"Order of the the categories based on the number of articles\")\n",
        "plt.xlabel(\"Number of Articles\")\n",
        "#plt.ylabel(\"Number of programmers\")\n",
        "\n",
        "plt.tight_layout()\n",
        "plt.show()"
      ],
      "execution_count": 122,
      "outputs": [
        {
          "output_type": "display_data",
          "data": {
            "image/png": "[encoded data removed]",
            "text/plain": [
              "<Figure size 576x396 with 1 Axes>"
            ]
          },
          "metadata": {
            "tags": []
          }
        }
      ]
    },
    {
      "cell_type": "markdown",
      "metadata": {
        "id": "2fLfUh_bCBI7"
      },
      "source": [
        "So, through this Bar plot we understand that the most articles we have are dresses. They are over 218 articles. Then, we have pants with 216 and accessories with 205.\n",
        "The least elements we have are the perfumes and sweatshirts.We have 27 sweatshirts and 16 perfumes."
      ]
    },
    {
      "cell_type": "markdown",
      "metadata": {
        "id": "axBSxnWoCqR3"
      },
      "source": [
        "Now let's represent the most common categories in our data using a pie chart."
      ]
    },
    {
      "cell_type": "code",
      "metadata": {
        "id": "_4OwGS0Nz4Kd"
      },
      "source": [
        "list_categories.reverse()\n",
        "list_counts.reverse()\n",
        "\n"
      ],
      "execution_count": 123,
      "outputs": []
    },
    {
      "cell_type": "code",
      "metadata": {
        "colab": {
          "base_uri": "https://localhost:8080/",
          "height": 405
        },
        "id": "Udj2bEqdyqeD",
        "outputId": "8a4b243b-0969-4175-ad9b-44f242e28711"
      },
      "source": [
        "labels=list_categories[:5]\n",
        "slices=list_counts[:5]\n",
        "plt.pie(slices, labels=labels, shadow= True,autopct='%1.1f%%',startangle=90,  wedgeprops={'edgecolor':'black'})\n",
        "\n",
        "plt.title(\"Order of the the categories based on the number of articles\")\n",
        "plt.tight_layout()\n",
        "plt.show()"
      ],
      "execution_count": 124,
      "outputs": [
        {
          "output_type": "display_data",
          "data": {
            "image/png": "[encoded data removed]",
            "text/plain": [
              "<Figure size 576x396 with 1 Axes>"
            ]
          },
          "metadata": {
            "tags": []
          }
        }
      ]
    },
    {
      "cell_type": "markdown",
      "metadata": {
        "id": "MdlG2gHuC1dI"
      },
      "source": [
        "These 5 categories are close in percentage. "
      ]
    },
    {
      "cell_type": "markdown",
      "metadata": {
        "id": "vPErYhmnDAu9"
      },
      "source": [
        "Now, our goal is to see in which category we have the cheapest article and in which category we have the most expensive article. Then, we are going to make the comparison based on the mean Price."
      ]
    },
    {
      "cell_type": "code",
      "metadata": {
        "id": "GpArspSL4Ox7"
      },
      "source": [
        "new_df=df[['Price','category']]"
      ],
      "execution_count": 125,
      "outputs": []
    },
    {
      "cell_type": "code",
      "metadata": {
        "id": "fX23XyaYzmGV"
      },
      "source": [
        "df_mean=new_df.groupby(['category'], as_index=False).mean()\n",
        "#df_mean is the dataframe containing the mean price for each category."
      ],
      "execution_count": 126,
      "outputs": []
    },
    {
      "cell_type": "code",
      "metadata": {
        "colab": {
          "base_uri": "https://localhost:8080/",
          "height": 203
        },
        "id": "bnIXNfhI1tOg",
        "outputId": "614972c4-286f-4b61-d9a1-1d703dd1032d"
      },
      "source": [
        "df_mean.head()"
      ],
      "execution_count": 127,
      "outputs": [
        {
          "output_type": "execute_result",
          "data": {
            "text/html": [
              "<div>\n",
              "<style scoped>\n",
              "    .dataframe tbody tr th:only-of-type {\n",
              "        vertical-align: middle;\n",
              "    }\n",
              "\n",
              "    .dataframe tbody tr th {\n",
              "        vertical-align: top;\n",
              "    }\n",
              "\n",
              "    .dataframe thead th {\n",
              "        text-align: right;\n",
              "    }\n",
              "</style>\n",
              "<table border=\"1\" class=\"dataframe\">\n",
              "  <thead>\n",
              "    <tr style=\"text-align: right;\">\n",
              "      <th></th>\n",
              "      <th>category</th>\n",
              "      <th>Price</th>\n",
              "    </tr>\n",
              "  </thead>\n",
              "  <tbody>\n",
              "    <tr>\n",
              "      <th>0</th>\n",
              "      <td>accessories</td>\n",
              "      <td>77.374878</td>\n",
              "    </tr>\n",
              "    <tr>\n",
              "      <th>1</th>\n",
              "      <td>blazers</td>\n",
              "      <td>239.762530</td>\n",
              "    </tr>\n",
              "    <tr>\n",
              "      <th>2</th>\n",
              "      <td>dresses</td>\n",
              "      <td>147.274312</td>\n",
              "    </tr>\n",
              "    <tr>\n",
              "      <th>3</th>\n",
              "      <td>pants</td>\n",
              "      <td>122.433704</td>\n",
              "    </tr>\n",
              "    <tr>\n",
              "      <th>4</th>\n",
              "      <td>perfumes</td>\n",
              "      <td>77.675000</td>\n",
              "    </tr>\n",
              "  </tbody>\n",
              "</table>\n",
              "</div>"
            ],
            "text/plain": [
              "      category       Price\n",
              "0  accessories   77.374878\n",
              "1      blazers  239.762530\n",
              "2      dresses  147.274312\n",
              "3        pants  122.433704\n",
              "4     perfumes   77.675000"
            ]
          },
          "metadata": {
            "tags": []
          },
          "execution_count": 127
        }
      ]
    },
    {
      "cell_type": "code",
      "metadata": {
        "id": "EjukesT63lmb"
      },
      "source": [
        "df_mean.rename(columns={\"Price\": \"Mean\"}, inplace=True)"
      ],
      "execution_count": 128,
      "outputs": []
    },
    {
      "cell_type": "code",
      "metadata": {
        "id": "rJF2kjKA34AL"
      },
      "source": [
        "df_min=new_df.groupby(['category'], as_index=False).min()\n",
        "#df_min is the dataframe containing the minimum price for each category"
      ],
      "execution_count": 129,
      "outputs": []
    },
    {
      "cell_type": "code",
      "metadata": {
        "colab": {
          "base_uri": "https://localhost:8080/",
          "height": 203
        },
        "id": "SqMNRgDN3-8T",
        "outputId": "c83f362d-20dc-4248-91eb-425e5873fd85"
      },
      "source": [
        "df_min.head()"
      ],
      "execution_count": 130,
      "outputs": [
        {
          "output_type": "execute_result",
          "data": {
            "text/html": [
              "<div>\n",
              "<style scoped>\n",
              "    .dataframe tbody tr th:only-of-type {\n",
              "        vertical-align: middle;\n",
              "    }\n",
              "\n",
              "    .dataframe tbody tr th {\n",
              "        vertical-align: top;\n",
              "    }\n",
              "\n",
              "    .dataframe thead th {\n",
              "        text-align: right;\n",
              "    }\n",
              "</style>\n",
              "<table border=\"1\" class=\"dataframe\">\n",
              "  <thead>\n",
              "    <tr style=\"text-align: right;\">\n",
              "      <th></th>\n",
              "      <th>category</th>\n",
              "      <th>Price</th>\n",
              "    </tr>\n",
              "  </thead>\n",
              "  <tbody>\n",
              "    <tr>\n",
              "      <th>0</th>\n",
              "      <td>accessories</td>\n",
              "      <td>3.0</td>\n",
              "    </tr>\n",
              "    <tr>\n",
              "      <th>1</th>\n",
              "      <td>blazers</td>\n",
              "      <td>3.0</td>\n",
              "    </tr>\n",
              "    <tr>\n",
              "      <th>2</th>\n",
              "      <td>dresses</td>\n",
              "      <td>3.0</td>\n",
              "    </tr>\n",
              "    <tr>\n",
              "      <th>3</th>\n",
              "      <td>pants</td>\n",
              "      <td>3.0</td>\n",
              "    </tr>\n",
              "    <tr>\n",
              "      <th>4</th>\n",
              "      <td>perfumes</td>\n",
              "      <td>25.9</td>\n",
              "    </tr>\n",
              "  </tbody>\n",
              "</table>\n",
              "</div>"
            ],
            "text/plain": [
              "      category  Price\n",
              "0  accessories    3.0\n",
              "1      blazers    3.0\n",
              "2      dresses    3.0\n",
              "3        pants    3.0\n",
              "4     perfumes   25.9"
            ]
          },
          "metadata": {
            "tags": []
          },
          "execution_count": 130
        }
      ]
    },
    {
      "cell_type": "code",
      "metadata": {
        "id": "tBw6F2fd4F2J"
      },
      "source": [
        "df_min.rename(columns={\"Price\": \"Min\"}, inplace=True)"
      ],
      "execution_count": 131,
      "outputs": []
    },
    {
      "cell_type": "code",
      "metadata": {
        "id": "nXLVPBc-4fCS"
      },
      "source": [
        "df_max=new_df.groupby(['category'], as_index=False).max()\n",
        "#df_max is the dataframe containing the maximum price for each category."
      ],
      "execution_count": 132,
      "outputs": []
    },
    {
      "cell_type": "code",
      "metadata": {
        "colab": {
          "base_uri": "https://localhost:8080/",
          "height": 203
        },
        "id": "Y3ise1BK4fLT",
        "outputId": "241ac31a-bc5d-4e3c-e3e8-fecd79971cfa"
      },
      "source": [
        "df_max.head()"
      ],
      "execution_count": 133,
      "outputs": [
        {
          "output_type": "execute_result",
          "data": {
            "text/html": [
              "<div>\n",
              "<style scoped>\n",
              "    .dataframe tbody tr th:only-of-type {\n",
              "        vertical-align: middle;\n",
              "    }\n",
              "\n",
              "    .dataframe tbody tr th {\n",
              "        vertical-align: top;\n",
              "    }\n",
              "\n",
              "    .dataframe thead th {\n",
              "        text-align: right;\n",
              "    }\n",
              "</style>\n",
              "<table border=\"1\" class=\"dataframe\">\n",
              "  <thead>\n",
              "    <tr style=\"text-align: right;\">\n",
              "      <th></th>\n",
              "      <th>category</th>\n",
              "      <th>Price</th>\n",
              "    </tr>\n",
              "  </thead>\n",
              "  <tbody>\n",
              "    <tr>\n",
              "      <th>0</th>\n",
              "      <td>accessories</td>\n",
              "      <td>1144.9</td>\n",
              "    </tr>\n",
              "    <tr>\n",
              "      <th>1</th>\n",
              "      <td>blazers</td>\n",
              "      <td>1144.9</td>\n",
              "    </tr>\n",
              "    <tr>\n",
              "      <th>2</th>\n",
              "      <td>dresses</td>\n",
              "      <td>1144.9</td>\n",
              "    </tr>\n",
              "    <tr>\n",
              "      <th>3</th>\n",
              "      <td>pants</td>\n",
              "      <td>1144.9</td>\n",
              "    </tr>\n",
              "    <tr>\n",
              "      <th>4</th>\n",
              "      <td>perfumes</td>\n",
              "      <td>139.0</td>\n",
              "    </tr>\n",
              "  </tbody>\n",
              "</table>\n",
              "</div>"
            ],
            "text/plain": [
              "      category   Price\n",
              "0  accessories  1144.9\n",
              "1      blazers  1144.9\n",
              "2      dresses  1144.9\n",
              "3        pants  1144.9\n",
              "4     perfumes   139.0"
            ]
          },
          "metadata": {
            "tags": []
          },
          "execution_count": 133
        }
      ]
    },
    {
      "cell_type": "code",
      "metadata": {
        "id": "rbrabTu44fTq"
      },
      "source": [
        "df_max.rename(columns={\"Price\": \"Max\"}, inplace=True)"
      ],
      "execution_count": 134,
      "outputs": []
    },
    {
      "cell_type": "code",
      "metadata": {
        "id": "A8uSpfHM5Gjy"
      },
      "source": [
        "df_min.drop(columns=['category'],inplace=True)\n",
        "df_max.drop(columns=['category'],inplace=True)"
      ],
      "execution_count": 135,
      "outputs": []
    },
    {
      "cell_type": "code",
      "metadata": {
        "id": "PDwBWRJA47nt"
      },
      "source": [
        "s1 = df_min.squeeze()\n",
        "s2 = df_max.squeeze()"
      ],
      "execution_count": 136,
      "outputs": []
    },
    {
      "cell_type": "markdown",
      "metadata": {
        "id": "FdpLhTNcDdck"
      },
      "source": [
        "* df_mean is the dataframe containing the mean price for each category.\n",
        "* df_min is the dataframe containing the minimum price for each category. \n",
        "* df_max is the dataframe containing the maximum price for each category.\n",
        "\n",
        "Now, we're going to combine these dataframes "
      ]
    },
    {
      "cell_type": "code",
      "metadata": {
        "id": "ONH7_3Ry5DkD"
      },
      "source": [
        "df1 = pd.concat([df_mean, s1], axis=1)\n",
        "df_prices = pd.concat([df1, s2], axis=1)"
      ],
      "execution_count": 137,
      "outputs": []
    },
    {
      "cell_type": "code",
      "metadata": {
        "colab": {
          "base_uri": "https://localhost:8080/",
          "height": 203
        },
        "id": "9K35Ia9758PI",
        "outputId": "7e19294e-13b1-4524-d56d-8ed13eb9e9d0"
      },
      "source": [
        "df_prices.head()"
      ],
      "execution_count": 138,
      "outputs": [
        {
          "output_type": "execute_result",
          "data": {
            "text/html": [
              "<div>\n",
              "<style scoped>\n",
              "    .dataframe tbody tr th:only-of-type {\n",
              "        vertical-align: middle;\n",
              "    }\n",
              "\n",
              "    .dataframe tbody tr th {\n",
              "        vertical-align: top;\n",
              "    }\n",
              "\n",
              "    .dataframe thead th {\n",
              "        text-align: right;\n",
              "    }\n",
              "</style>\n",
              "<table border=\"1\" class=\"dataframe\">\n",
              "  <thead>\n",
              "    <tr style=\"text-align: right;\">\n",
              "      <th></th>\n",
              "      <th>category</th>\n",
              "      <th>Mean</th>\n",
              "      <th>Min</th>\n",
              "      <th>Max</th>\n",
              "    </tr>\n",
              "  </thead>\n",
              "  <tbody>\n",
              "    <tr>\n",
              "      <th>0</th>\n",
              "      <td>accessories</td>\n",
              "      <td>77.374878</td>\n",
              "      <td>3.0</td>\n",
              "      <td>1144.9</td>\n",
              "    </tr>\n",
              "    <tr>\n",
              "      <th>1</th>\n",
              "      <td>blazers</td>\n",
              "      <td>239.762530</td>\n",
              "      <td>3.0</td>\n",
              "      <td>1144.9</td>\n",
              "    </tr>\n",
              "    <tr>\n",
              "      <th>2</th>\n",
              "      <td>dresses</td>\n",
              "      <td>147.274312</td>\n",
              "      <td>3.0</td>\n",
              "      <td>1144.9</td>\n",
              "    </tr>\n",
              "    <tr>\n",
              "      <th>3</th>\n",
              "      <td>pants</td>\n",
              "      <td>122.433704</td>\n",
              "      <td>3.0</td>\n",
              "      <td>1144.9</td>\n",
              "    </tr>\n",
              "    <tr>\n",
              "      <th>4</th>\n",
              "      <td>perfumes</td>\n",
              "      <td>77.675000</td>\n",
              "      <td>25.9</td>\n",
              "      <td>139.0</td>\n",
              "    </tr>\n",
              "  </tbody>\n",
              "</table>\n",
              "</div>"
            ],
            "text/plain": [
              "      category        Mean   Min     Max\n",
              "0  accessories   77.374878   3.0  1144.9\n",
              "1      blazers  239.762530   3.0  1144.9\n",
              "2      dresses  147.274312   3.0  1144.9\n",
              "3        pants  122.433704   3.0  1144.9\n",
              "4     perfumes   77.675000  25.9   139.0"
            ]
          },
          "metadata": {
            "tags": []
          },
          "execution_count": 138
        }
      ]
    },
    {
      "cell_type": "code",
      "metadata": {
        "id": "1xaYNGZQ1wou"
      },
      "source": [
        "df_prices.sort_values(by='Mean',inplace= True)"
      ],
      "execution_count": 139,
      "outputs": []
    },
    {
      "cell_type": "code",
      "metadata": {
        "colab": {
          "base_uri": "https://localhost:8080/",
          "height": 295
        },
        "id": "0Zr5pyG22J7r",
        "outputId": "b969a078-4d3f-472b-e4aa-5b09d17b5743"
      },
      "source": [
        "df_prices"
      ],
      "execution_count": 140,
      "outputs": [
        {
          "output_type": "execute_result",
          "data": {
            "text/html": [
              "<div>\n",
              "<style scoped>\n",
              "    .dataframe tbody tr th:only-of-type {\n",
              "        vertical-align: middle;\n",
              "    }\n",
              "\n",
              "    .dataframe tbody tr th {\n",
              "        vertical-align: top;\n",
              "    }\n",
              "\n",
              "    .dataframe thead th {\n",
              "        text-align: right;\n",
              "    }\n",
              "</style>\n",
              "<table border=\"1\" class=\"dataframe\">\n",
              "  <thead>\n",
              "    <tr style=\"text-align: right;\">\n",
              "      <th></th>\n",
              "      <th>category</th>\n",
              "      <th>Mean</th>\n",
              "      <th>Min</th>\n",
              "      <th>Max</th>\n",
              "    </tr>\n",
              "  </thead>\n",
              "  <tbody>\n",
              "    <tr>\n",
              "      <th>7</th>\n",
              "      <td>t-shirts</td>\n",
              "      <td>69.541988</td>\n",
              "      <td>3.0</td>\n",
              "      <td>1144.9</td>\n",
              "    </tr>\n",
              "    <tr>\n",
              "      <th>0</th>\n",
              "      <td>accessories</td>\n",
              "      <td>77.374878</td>\n",
              "      <td>3.0</td>\n",
              "      <td>1144.9</td>\n",
              "    </tr>\n",
              "    <tr>\n",
              "      <th>4</th>\n",
              "      <td>perfumes</td>\n",
              "      <td>77.675000</td>\n",
              "      <td>25.9</td>\n",
              "      <td>139.0</td>\n",
              "    </tr>\n",
              "    <tr>\n",
              "      <th>6</th>\n",
              "      <td>sweatshirts</td>\n",
              "      <td>107.481481</td>\n",
              "      <td>79.9</td>\n",
              "      <td>139.0</td>\n",
              "    </tr>\n",
              "    <tr>\n",
              "      <th>3</th>\n",
              "      <td>pants</td>\n",
              "      <td>122.433704</td>\n",
              "      <td>3.0</td>\n",
              "      <td>1144.9</td>\n",
              "    </tr>\n",
              "    <tr>\n",
              "      <th>5</th>\n",
              "      <td>shoes</td>\n",
              "      <td>122.668828</td>\n",
              "      <td>3.0</td>\n",
              "      <td>1144.9</td>\n",
              "    </tr>\n",
              "    <tr>\n",
              "      <th>2</th>\n",
              "      <td>dresses</td>\n",
              "      <td>147.274312</td>\n",
              "      <td>3.0</td>\n",
              "      <td>1144.9</td>\n",
              "    </tr>\n",
              "    <tr>\n",
              "      <th>1</th>\n",
              "      <td>blazers</td>\n",
              "      <td>239.762530</td>\n",
              "      <td>3.0</td>\n",
              "      <td>1144.9</td>\n",
              "    </tr>\n",
              "  </tbody>\n",
              "</table>\n",
              "</div>"
            ],
            "text/plain": [
              "      category        Mean   Min     Max\n",
              "7     t-shirts   69.541988   3.0  1144.9\n",
              "0  accessories   77.374878   3.0  1144.9\n",
              "4     perfumes   77.675000  25.9   139.0\n",
              "6  sweatshirts  107.481481  79.9   139.0\n",
              "3        pants  122.433704   3.0  1144.9\n",
              "5        shoes  122.668828   3.0  1144.9\n",
              "2      dresses  147.274312   3.0  1144.9\n",
              "1      blazers  239.762530   3.0  1144.9"
            ]
          },
          "metadata": {
            "tags": []
          },
          "execution_count": 140
        }
      ]
    },
    {
      "cell_type": "code",
      "metadata": {
        "colab": {
          "base_uri": "https://localhost:8080/",
          "height": 405
        },
        "id": "9H7evhV-2Lb4",
        "outputId": "96994afb-0ade-4308-9953-9169ff72a7e9"
      },
      "source": [
        "plt.bar(df_prices['category'],df_prices['Mean'])\n",
        "plt.title(\"Order of the the categories based on the mean price\")\n",
        "plt.xlabel(\"Number of Articles\")\n",
        "#plt.ylabel(\"Number of programmers\")\n",
        "\n",
        "plt.tight_layout()\n",
        "plt.show()"
      ],
      "execution_count": 141,
      "outputs": [
        {
          "output_type": "display_data",
          "data": {
            "image/png": "[encoded data removed]",
            "text/plain": [
              "<Figure size 576x396 with 1 Axes>"
            ]
          },
          "metadata": {
            "tags": []
          }
        }
      ]
    },
    {
      "cell_type": "markdown",
      "metadata": {
        "id": "qiQ1924BEDpX"
      },
      "source": [
        "Through this bar plot, we conclude that the highest mean price is corresponding to the category blazers. Where the t-shirts is the category that have the least expensive prices."
      ]
    },
    {
      "cell_type": "markdown",
      "metadata": {
        "id": "pzkrSqpOEagF"
      },
      "source": [
        "Now, our goal is to see which retailer sell the cheapest article and in which one have the most expensive article. Then, we are going to make the comparison between retailers based on the mean Price."
      ]
    },
    {
      "cell_type": "code",
      "metadata": {
        "id": "_GzzQ-dj7i2J"
      },
      "source": [
        "df.sort_values(by='Retailer',inplace= True)"
      ],
      "execution_count": 142,
      "outputs": []
    },
    {
      "cell_type": "code",
      "metadata": {
        "id": "nquL8UjA8Y0x"
      },
      "source": [
        "df_retail= df[['Retailer','Price']]"
      ],
      "execution_count": 143,
      "outputs": []
    },
    {
      "cell_type": "code",
      "metadata": {
        "colab": {
          "base_uri": "https://localhost:8080/",
          "height": 203
        },
        "id": "ZHYrmwb-8agY",
        "outputId": "361814e3-6e71-43a3-e357-5f69589b00e0"
      },
      "source": [
        "df_retail.head()"
      ],
      "execution_count": 144,
      "outputs": [
        {
          "output_type": "execute_result",
          "data": {
            "text/html": [
              "<div>\n",
              "<style scoped>\n",
              "    .dataframe tbody tr th:only-of-type {\n",
              "        vertical-align: middle;\n",
              "    }\n",
              "\n",
              "    .dataframe tbody tr th {\n",
              "        vertical-align: top;\n",
              "    }\n",
              "\n",
              "    .dataframe thead th {\n",
              "        text-align: right;\n",
              "    }\n",
              "</style>\n",
              "<table border=\"1\" class=\"dataframe\">\n",
              "  <thead>\n",
              "    <tr style=\"text-align: right;\">\n",
              "      <th></th>\n",
              "      <th>Retailer</th>\n",
              "      <th>Price</th>\n",
              "    </tr>\n",
              "  </thead>\n",
              "  <tbody>\n",
              "    <tr>\n",
              "      <th>339</th>\n",
              "      <td>HA</td>\n",
              "      <td>69.99</td>\n",
              "    </tr>\n",
              "    <tr>\n",
              "      <th>110</th>\n",
              "      <td>HA</td>\n",
              "      <td>39.99</td>\n",
              "    </tr>\n",
              "    <tr>\n",
              "      <th>105</th>\n",
              "      <td>HA</td>\n",
              "      <td>35.99</td>\n",
              "    </tr>\n",
              "    <tr>\n",
              "      <th>104</th>\n",
              "      <td>HA</td>\n",
              "      <td>35.99</td>\n",
              "    </tr>\n",
              "    <tr>\n",
              "      <th>102</th>\n",
              "      <td>HA</td>\n",
              "      <td>35.99</td>\n",
              "    </tr>\n",
              "  </tbody>\n",
              "</table>\n",
              "</div>"
            ],
            "text/plain": [
              "    Retailer  Price\n",
              "339       HA  69.99\n",
              "110       HA  39.99\n",
              "105       HA  35.99\n",
              "104       HA  35.99\n",
              "102       HA  35.99"
            ]
          },
          "metadata": {
            "tags": []
          },
          "execution_count": 144
        }
      ]
    },
    {
      "cell_type": "code",
      "metadata": {
        "id": "wOi7rfOQ9Bmn"
      },
      "source": [
        "df2_mean=df_retail.groupby(['Retailer'], as_index=False).mean()\n",
        "#df2_mean is the dataframe containing the mean price for each retailer."
      ],
      "execution_count": 145,
      "outputs": []
    },
    {
      "cell_type": "code",
      "metadata": {
        "colab": {
          "base_uri": "https://localhost:8080/",
          "height": 203
        },
        "id": "VOJ5faBF_N52",
        "outputId": "f07a0974-797e-4928-dfab-2253e05c1cb6"
      },
      "source": [
        "df2_mean.head()"
      ],
      "execution_count": 146,
      "outputs": [
        {
          "output_type": "execute_result",
          "data": {
            "text/html": [
              "<div>\n",
              "<style scoped>\n",
              "    .dataframe tbody tr th:only-of-type {\n",
              "        vertical-align: middle;\n",
              "    }\n",
              "\n",
              "    .dataframe tbody tr th {\n",
              "        vertical-align: top;\n",
              "    }\n",
              "\n",
              "    .dataframe thead th {\n",
              "        text-align: right;\n",
              "    }\n",
              "</style>\n",
              "<table border=\"1\" class=\"dataframe\">\n",
              "  <thead>\n",
              "    <tr style=\"text-align: right;\">\n",
              "      <th></th>\n",
              "      <th>Retailer</th>\n",
              "      <th>Price</th>\n",
              "    </tr>\n",
              "  </thead>\n",
              "  <tbody>\n",
              "    <tr>\n",
              "      <th>0</th>\n",
              "      <td>HA</td>\n",
              "      <td>49.256667</td>\n",
              "    </tr>\n",
              "    <tr>\n",
              "      <th>1</th>\n",
              "      <td>drest</td>\n",
              "      <td>151.451657</td>\n",
              "    </tr>\n",
              "    <tr>\n",
              "      <th>2</th>\n",
              "      <td>mango</td>\n",
              "      <td>140.426065</td>\n",
              "    </tr>\n",
              "    <tr>\n",
              "      <th>3</th>\n",
              "      <td>shana</td>\n",
              "      <td>63.780850</td>\n",
              "    </tr>\n",
              "    <tr>\n",
              "      <th>4</th>\n",
              "      <td>zara</td>\n",
              "      <td>128.778947</td>\n",
              "    </tr>\n",
              "  </tbody>\n",
              "</table>\n",
              "</div>"
            ],
            "text/plain": [
              "  Retailer       Price\n",
              "0       HA   49.256667\n",
              "1    drest  151.451657\n",
              "2    mango  140.426065\n",
              "3    shana   63.780850\n",
              "4     zara  128.778947"
            ]
          },
          "metadata": {
            "tags": []
          },
          "execution_count": 146
        }
      ]
    },
    {
      "cell_type": "code",
      "metadata": {
        "id": "teu2uyUW_Qmd"
      },
      "source": [
        "df2_mean.rename(columns={\"Price\": \"Mean\"}, inplace=True)"
      ],
      "execution_count": 147,
      "outputs": []
    },
    {
      "cell_type": "code",
      "metadata": {
        "id": "Bd7lVZ_I_XYq"
      },
      "source": [
        "df2_min=df_retail.groupby(['Retailer'], as_index=False).min()\n",
        "#df2_min is the dataframe containing the minimum price for each retailer."
      ],
      "execution_count": 150,
      "outputs": []
    },
    {
      "cell_type": "code",
      "metadata": {
        "colab": {
          "base_uri": "https://localhost:8080/",
          "height": 203
        },
        "id": "rcjZ7Bzq_a5U",
        "outputId": "5f60efcb-95bb-4943-c9eb-fcbf091c656e"
      },
      "source": [
        "df2_min.head()"
      ],
      "execution_count": 151,
      "outputs": [
        {
          "output_type": "execute_result",
          "data": {
            "text/html": [
              "<div>\n",
              "<style scoped>\n",
              "    .dataframe tbody tr th:only-of-type {\n",
              "        vertical-align: middle;\n",
              "    }\n",
              "\n",
              "    .dataframe tbody tr th {\n",
              "        vertical-align: top;\n",
              "    }\n",
              "\n",
              "    .dataframe thead th {\n",
              "        text-align: right;\n",
              "    }\n",
              "</style>\n",
              "<table border=\"1\" class=\"dataframe\">\n",
              "  <thead>\n",
              "    <tr style=\"text-align: right;\">\n",
              "      <th></th>\n",
              "      <th>Retailer</th>\n",
              "      <th>Price</th>\n",
              "    </tr>\n",
              "  </thead>\n",
              "  <tbody>\n",
              "    <tr>\n",
              "      <th>0</th>\n",
              "      <td>HA</td>\n",
              "      <td>15.99</td>\n",
              "    </tr>\n",
              "    <tr>\n",
              "      <th>1</th>\n",
              "      <td>drest</td>\n",
              "      <td>3.00</td>\n",
              "    </tr>\n",
              "    <tr>\n",
              "      <th>2</th>\n",
              "      <td>mango</td>\n",
              "      <td>35.90</td>\n",
              "    </tr>\n",
              "    <tr>\n",
              "      <th>3</th>\n",
              "      <td>shana</td>\n",
              "      <td>15.99</td>\n",
              "    </tr>\n",
              "    <tr>\n",
              "      <th>4</th>\n",
              "      <td>zara</td>\n",
              "      <td>19.90</td>\n",
              "    </tr>\n",
              "  </tbody>\n",
              "</table>\n",
              "</div>"
            ],
            "text/plain": [
              "  Retailer  Price\n",
              "0       HA  15.99\n",
              "1    drest   3.00\n",
              "2    mango  35.90\n",
              "3    shana  15.99\n",
              "4     zara  19.90"
            ]
          },
          "metadata": {
            "tags": []
          },
          "execution_count": 151
        }
      ]
    },
    {
      "cell_type": "code",
      "metadata": {
        "id": "2T0tftIR_ezR"
      },
      "source": [
        "df2_min.rename(columns={\"Price\": \"Min\"}, inplace=True)"
      ],
      "execution_count": 152,
      "outputs": []
    },
    {
      "cell_type": "code",
      "metadata": {
        "id": "Vvfndm0v_k95"
      },
      "source": [
        "df2_max=df_retail.groupby(['Retailer'], as_index=False).max()\n",
        "#df2_max is the dataframe containing the max price for each retailer."
      ],
      "execution_count": 153,
      "outputs": []
    },
    {
      "cell_type": "code",
      "metadata": {
        "colab": {
          "base_uri": "https://localhost:8080/",
          "height": 203
        },
        "id": "taC0w2cI_oAw",
        "outputId": "2dad0f9d-8c97-46e6-da59-301832674218"
      },
      "source": [
        "df2_max.head()"
      ],
      "execution_count": 154,
      "outputs": [
        {
          "output_type": "execute_result",
          "data": {
            "text/html": [
              "<div>\n",
              "<style scoped>\n",
              "    .dataframe tbody tr th:only-of-type {\n",
              "        vertical-align: middle;\n",
              "    }\n",
              "\n",
              "    .dataframe tbody tr th {\n",
              "        vertical-align: top;\n",
              "    }\n",
              "\n",
              "    .dataframe thead th {\n",
              "        text-align: right;\n",
              "    }\n",
              "</style>\n",
              "<table border=\"1\" class=\"dataframe\">\n",
              "  <thead>\n",
              "    <tr style=\"text-align: right;\">\n",
              "      <th></th>\n",
              "      <th>Retailer</th>\n",
              "      <th>Price</th>\n",
              "    </tr>\n",
              "  </thead>\n",
              "  <tbody>\n",
              "    <tr>\n",
              "      <th>0</th>\n",
              "      <td>HA</td>\n",
              "      <td>99.99</td>\n",
              "    </tr>\n",
              "    <tr>\n",
              "      <th>1</th>\n",
              "      <td>drest</td>\n",
              "      <td>1144.90</td>\n",
              "    </tr>\n",
              "    <tr>\n",
              "      <th>2</th>\n",
              "      <td>mango</td>\n",
              "      <td>469.00</td>\n",
              "    </tr>\n",
              "    <tr>\n",
              "      <th>3</th>\n",
              "      <td>shana</td>\n",
              "      <td>199.99</td>\n",
              "    </tr>\n",
              "    <tr>\n",
              "      <th>4</th>\n",
              "      <td>zara</td>\n",
              "      <td>369.00</td>\n",
              "    </tr>\n",
              "  </tbody>\n",
              "</table>\n",
              "</div>"
            ],
            "text/plain": [
              "  Retailer    Price\n",
              "0       HA    99.99\n",
              "1    drest  1144.90\n",
              "2    mango   469.00\n",
              "3    shana   199.99\n",
              "4     zara   369.00"
            ]
          },
          "metadata": {
            "tags": []
          },
          "execution_count": 154
        }
      ]
    },
    {
      "cell_type": "code",
      "metadata": {
        "id": "QWeKUXbd_q6k"
      },
      "source": [
        "df2_max.rename(columns={\"Price\": \"Max\"}, inplace=True)"
      ],
      "execution_count": 155,
      "outputs": []
    },
    {
      "cell_type": "code",
      "metadata": {
        "id": "zQCuDnLW_tmd"
      },
      "source": [
        "df2_min.drop(columns=['Retailer'],inplace=True)\n",
        "df2_max.drop(columns=['Retailer'],inplace=True)\n",
        "s1 = df2_min.squeeze()\n",
        "s2 = df2_max.squeeze()"
      ],
      "execution_count": 156,
      "outputs": []
    },
    {
      "cell_type": "markdown",
      "metadata": {
        "id": "DMQfG8zfE-kJ"
      },
      "source": [
        "* df2_mean is the dataframe containing the mean price for each retailer.\n",
        "* df2_min is the dataframe containing the minimum price for each retailer. \n",
        "* df2_max is the dataframe containing the maximum price for each retailer.\n",
        "\n",
        "Now, we're going to combine these dataframes "
      ]
    },
    {
      "cell_type": "code",
      "metadata": {
        "id": "hDdEGDjW_x_j"
      },
      "source": [
        "df1 = pd.concat([df2_mean, s1], axis=1)\n",
        "df_prices_retail = pd.concat([df1, s2], axis=1)"
      ],
      "execution_count": 157,
      "outputs": []
    },
    {
      "cell_type": "code",
      "metadata": {
        "colab": {
          "base_uri": "https://localhost:8080/",
          "height": 203
        },
        "id": "Dz0RBdYF_1UO",
        "outputId": "2df3f4a3-4221-48a5-abc7-a695b859ef90"
      },
      "source": [
        "df_prices_retail.head()"
      ],
      "execution_count": 158,
      "outputs": [
        {
          "output_type": "execute_result",
          "data": {
            "text/html": [
              "<div>\n",
              "<style scoped>\n",
              "    .dataframe tbody tr th:only-of-type {\n",
              "        vertical-align: middle;\n",
              "    }\n",
              "\n",
              "    .dataframe tbody tr th {\n",
              "        vertical-align: top;\n",
              "    }\n",
              "\n",
              "    .dataframe thead th {\n",
              "        text-align: right;\n",
              "    }\n",
              "</style>\n",
              "<table border=\"1\" class=\"dataframe\">\n",
              "  <thead>\n",
              "    <tr style=\"text-align: right;\">\n",
              "      <th></th>\n",
              "      <th>Retailer</th>\n",
              "      <th>Mean</th>\n",
              "      <th>Min</th>\n",
              "      <th>Max</th>\n",
              "    </tr>\n",
              "  </thead>\n",
              "  <tbody>\n",
              "    <tr>\n",
              "      <th>0</th>\n",
              "      <td>HA</td>\n",
              "      <td>49.256667</td>\n",
              "      <td>15.99</td>\n",
              "      <td>99.99</td>\n",
              "    </tr>\n",
              "    <tr>\n",
              "      <th>1</th>\n",
              "      <td>drest</td>\n",
              "      <td>151.451657</td>\n",
              "      <td>3.00</td>\n",
              "      <td>1144.90</td>\n",
              "    </tr>\n",
              "    <tr>\n",
              "      <th>2</th>\n",
              "      <td>mango</td>\n",
              "      <td>140.426065</td>\n",
              "      <td>35.90</td>\n",
              "      <td>469.00</td>\n",
              "    </tr>\n",
              "    <tr>\n",
              "      <th>3</th>\n",
              "      <td>shana</td>\n",
              "      <td>63.780850</td>\n",
              "      <td>15.99</td>\n",
              "      <td>199.99</td>\n",
              "    </tr>\n",
              "    <tr>\n",
              "      <th>4</th>\n",
              "      <td>zara</td>\n",
              "      <td>128.778947</td>\n",
              "      <td>19.90</td>\n",
              "      <td>369.00</td>\n",
              "    </tr>\n",
              "  </tbody>\n",
              "</table>\n",
              "</div>"
            ],
            "text/plain": [
              "  Retailer        Mean    Min      Max\n",
              "0       HA   49.256667  15.99    99.99\n",
              "1    drest  151.451657   3.00  1144.90\n",
              "2    mango  140.426065  35.90   469.00\n",
              "3    shana   63.780850  15.99   199.99\n",
              "4     zara  128.778947  19.90   369.00"
            ]
          },
          "metadata": {
            "tags": []
          },
          "execution_count": 158
        }
      ]
    },
    {
      "cell_type": "code",
      "metadata": {
        "id": "ldWkqXOD_1o3"
      },
      "source": [
        "df_prices_retail.sort_values(by='Mean',inplace= True)"
      ],
      "execution_count": 159,
      "outputs": []
    },
    {
      "cell_type": "code",
      "metadata": {
        "colab": {
          "base_uri": "https://localhost:8080/",
          "height": 203
        },
        "id": "G1DanOcb_8pZ",
        "outputId": "bc9256a0-30b9-48fe-ced5-31f5539374c1"
      },
      "source": [
        "df_prices_retail"
      ],
      "execution_count": 160,
      "outputs": [
        {
          "output_type": "execute_result",
          "data": {
            "text/html": [
              "<div>\n",
              "<style scoped>\n",
              "    .dataframe tbody tr th:only-of-type {\n",
              "        vertical-align: middle;\n",
              "    }\n",
              "\n",
              "    .dataframe tbody tr th {\n",
              "        vertical-align: top;\n",
              "    }\n",
              "\n",
              "    .dataframe thead th {\n",
              "        text-align: right;\n",
              "    }\n",
              "</style>\n",
              "<table border=\"1\" class=\"dataframe\">\n",
              "  <thead>\n",
              "    <tr style=\"text-align: right;\">\n",
              "      <th></th>\n",
              "      <th>Retailer</th>\n",
              "      <th>Mean</th>\n",
              "      <th>Min</th>\n",
              "      <th>Max</th>\n",
              "    </tr>\n",
              "  </thead>\n",
              "  <tbody>\n",
              "    <tr>\n",
              "      <th>0</th>\n",
              "      <td>HA</td>\n",
              "      <td>49.256667</td>\n",
              "      <td>15.99</td>\n",
              "      <td>99.99</td>\n",
              "    </tr>\n",
              "    <tr>\n",
              "      <th>3</th>\n",
              "      <td>shana</td>\n",
              "      <td>63.780850</td>\n",
              "      <td>15.99</td>\n",
              "      <td>199.99</td>\n",
              "    </tr>\n",
              "    <tr>\n",
              "      <th>4</th>\n",
              "      <td>zara</td>\n",
              "      <td>128.778947</td>\n",
              "      <td>19.90</td>\n",
              "      <td>369.00</td>\n",
              "    </tr>\n",
              "    <tr>\n",
              "      <th>2</th>\n",
              "      <td>mango</td>\n",
              "      <td>140.426065</td>\n",
              "      <td>35.90</td>\n",
              "      <td>469.00</td>\n",
              "    </tr>\n",
              "    <tr>\n",
              "      <th>1</th>\n",
              "      <td>drest</td>\n",
              "      <td>151.451657</td>\n",
              "      <td>3.00</td>\n",
              "      <td>1144.90</td>\n",
              "    </tr>\n",
              "  </tbody>\n",
              "</table>\n",
              "</div>"
            ],
            "text/plain": [
              "  Retailer        Mean    Min      Max\n",
              "0       HA   49.256667  15.99    99.99\n",
              "3    shana   63.780850  15.99   199.99\n",
              "4     zara  128.778947  19.90   369.00\n",
              "2    mango  140.426065  35.90   469.00\n",
              "1    drest  151.451657   3.00  1144.90"
            ]
          },
          "metadata": {
            "tags": []
          },
          "execution_count": 160
        }
      ]
    },
    {
      "cell_type": "code",
      "metadata": {
        "colab": {
          "base_uri": "https://localhost:8080/",
          "height": 405
        },
        "id": "8eMoxNfI_5Aj",
        "outputId": "320517cf-88f6-40f6-d8c8-d2f4427319df"
      },
      "source": [
        "plt.bar(df_prices_retail['Retailer'],df_prices_retail['Mean'])\n",
        "plt.title(\"Order of the retailers based on the mean price\")\n",
        "plt.xlabel(\"Mean Price\")\n",
        "#plt.ylabel(\"Number of programmers\")\n",
        "\n",
        "plt.tight_layout()\n",
        "plt.show()"
      ],
      "execution_count": 161,
      "outputs": [
        {
          "output_type": "display_data",
          "data": {
            "image/png": "[encoded data removed]",
            "text/plain": [
              "<Figure size 576x396 with 1 Axes>"
            ]
          },
          "metadata": {
            "tags": []
          }
        }
      ]
    },
    {
      "cell_type": "markdown",
      "metadata": {
        "id": "TBUubGk2FMfY"
      },
      "source": [
        "Through this bar plot, we conclude that the highest mean price is corresponding to the retailer 'drest'.And the retailer that have the least expensive prices is 'HA'"
      ]
    }
  ]
}