{
  "nbformat": 4,
  "nbformat_minor": 0,
  "metadata": {
    "colab": {
      "name": "data_preprocessing.ipynb",
      "provenance": [],
      "collapsed_sections": []
    },
    "kernelspec": {
      "name": "python3",
      "display_name": "Python 3"
    },
    "language_info": {
      "name": "python"
    }
  },
  "cells": [
    {
      "cell_type": "code",
      "metadata": {
        "colab": {
          "base_uri": "https://localhost:8080/"
        },
        "id": "dKpw_vZ-0AsB",
        "outputId": "aa6f5643-e7a0-4c83-cf55-29c7f9c848f2"
      },
      "source": [
        "!pip install deep-translator"
      ],
      "execution_count": 147,
      "outputs": [
        {
          "output_type": "stream",
          "text": [
            "Requirement already satisfied: deep-translator in /usr/local/lib/python3.7/dist-packages (1.4.4)\n",
            "Requirement already satisfied: requests in /usr/local/lib/python3.7/dist-packages (from deep-translator) (2.23.0)\n",
            "Requirement already satisfied: beautifulsoup4 in /usr/local/lib/python3.7/dist-packages (from deep-translator) (4.6.3)\n",
            "Requirement already satisfied: urllib3!=1.25.0,!=1.25.1,<1.26,>=1.21.1 in /usr/local/lib/python3.7/dist-packages (from requests->deep-translator) (1.24.3)\n",
            "Requirement already satisfied: chardet<4,>=3.0.2 in /usr/local/lib/python3.7/dist-packages (from requests->deep-translator) (3.0.4)\n",
            "Requirement already satisfied: certifi>=2017.4.17 in /usr/local/lib/python3.7/dist-packages (from requests->deep-translator) (2021.5.30)\n",
            "Requirement already satisfied: idna<3,>=2.5 in /usr/local/lib/python3.7/dist-packages (from requests->deep-translator) (2.10)\n"
          ],
          "name": "stdout"
        }
      ]
    },
    {
      "cell_type": "code",
      "metadata": {
        "id": "7Mkw1_WBmn3T"
      },
      "source": [
        "import pandas as pd\n",
        "import os\n",
        "import seaborn as sns\n",
        "from  matplotlib import pyplot as plt\n",
        "from scipy import stats\n",
        "import numpy as np"
      ],
      "execution_count": 178,
      "outputs": []
    },
    {
      "cell_type": "code",
      "metadata": {
        "id": "NtVRDZRqnzRr"
      },
      "source": [
        "df=pd.read_csv('drive/My Drive/dataset.csv')"
      ],
      "execution_count": 149,
      "outputs": []
    },
    {
      "cell_type": "code",
      "metadata": {
        "colab": {
          "base_uri": "https://localhost:8080/",
          "height": 203
        },
        "id": "eW3k1Ibin6_7",
        "outputId": "7f7b7a54-8de8-4f55-cd52-4885fd53c693"
      },
      "source": [
        "df.head()"
      ],
      "execution_count": 150,
      "outputs": [
        {
          "output_type": "execute_result",
          "data": {
            "text/html": [
              "<div>\n",
              "<style scoped>\n",
              "    .dataframe tbody tr th:only-of-type {\n",
              "        vertical-align: middle;\n",
              "    }\n",
              "\n",
              "    .dataframe tbody tr th {\n",
              "        vertical-align: top;\n",
              "    }\n",
              "\n",
              "    .dataframe thead th {\n",
              "        text-align: right;\n",
              "    }\n",
              "</style>\n",
              "<table border=\"1\" class=\"dataframe\">\n",
              "  <thead>\n",
              "    <tr style=\"text-align: right;\">\n",
              "      <th></th>\n",
              "      <th>Product</th>\n",
              "      <th>Price</th>\n",
              "      <th>category</th>\n",
              "      <th>Filename</th>\n",
              "      <th>Retailer</th>\n",
              "    </tr>\n",
              "  </thead>\n",
              "  <tbody>\n",
              "    <tr>\n",
              "      <th>0</th>\n",
              "      <td>ROBE EN SATIN IMPRIMÃE</td>\n",
              "      <td>119,00 TND</td>\n",
              "      <td>dresses</td>\n",
              "      <td>zara.csv</td>\n",
              "      <td>zara</td>\n",
              "    </tr>\n",
              "    <tr>\n",
              "      <th>1</th>\n",
              "      <td>ROBE SATINÃE</td>\n",
              "      <td>119,00 TND</td>\n",
              "      <td>dresses</td>\n",
              "      <td>zara.csv</td>\n",
              "      <td>zara</td>\n",
              "    </tr>\n",
              "    <tr>\n",
              "      <th>2</th>\n",
              "      <td>ROBE PORTEFEUILLE SATINÃE</td>\n",
              "      <td>119,00 TND</td>\n",
              "      <td>dresses</td>\n",
              "      <td>zara.csv</td>\n",
              "      <td>zara</td>\n",
              "    </tr>\n",
              "    <tr>\n",
              "      <th>3</th>\n",
              "      <td>ROBE EN SATIN AVEC IMPRIMÃ Ã FLEURS</td>\n",
              "      <td>139,00 TND</td>\n",
              "      <td>dresses</td>\n",
              "      <td>zara.csv</td>\n",
              "      <td>zara</td>\n",
              "    </tr>\n",
              "    <tr>\n",
              "      <th>4</th>\n",
              "      <td>ROBE SATINÃE</td>\n",
              "      <td>139,00 TND</td>\n",
              "      <td>dresses</td>\n",
              "      <td>zara.csv</td>\n",
              "      <td>zara</td>\n",
              "    </tr>\n",
              "  </tbody>\n",
              "</table>\n",
              "</div>"
            ],
            "text/plain": [
              "                                 Product       Price  ...  Filename Retailer\n",
              "0                ROBE EN SATIN IMPRIMÃE  119,00 TND  ...  zara.csv     zara\n",
              "1                          ROBE SATINÃE  119,00 TND  ...  zara.csv     zara\n",
              "2             ROBE PORTEFEUILLE SATINÃE  119,00 TND  ...  zara.csv     zara\n",
              "3  ROBE EN SATIN AVEC IMPRIMÃ Ã FLEURS  139,00 TND  ...  zara.csv     zara\n",
              "4                          ROBE SATINÃE  139,00 TND  ...  zara.csv     zara\n",
              "\n",
              "[5 rows x 5 columns]"
            ]
          },
          "metadata": {
            "tags": []
          },
          "execution_count": 150
        }
      ]
    },
    {
      "cell_type": "code",
      "metadata": {
        "id": "zE3wfb0DsuyE"
      },
      "source": [
        "#df.loc[646]"
      ],
      "execution_count": 151,
      "outputs": []
    },
    {
      "cell_type": "code",
      "metadata": {
        "colab": {
          "base_uri": "https://localhost:8080/"
        },
        "id": "HHEpnvMMoUB8",
        "outputId": "d24dc51d-5970-429c-f046-d584039f0050"
      },
      "source": [
        "df.isnull().sum()"
      ],
      "execution_count": 152,
      "outputs": [
        {
          "output_type": "execute_result",
          "data": {
            "text/plain": [
              "Product     0\n",
              "Price       0\n",
              "category    0\n",
              "Filename    0\n",
              "Retailer    0\n",
              "dtype: int64"
            ]
          },
          "metadata": {
            "tags": []
          },
          "execution_count": 152
        }
      ]
    },
    {
      "cell_type": "markdown",
      "metadata": {
        "id": "75cCSLaaojqJ"
      },
      "source": [
        "Our data doesn't contain null values."
      ]
    },
    {
      "cell_type": "code",
      "metadata": {
        "colab": {
          "base_uri": "https://localhost:8080/"
        },
        "id": "cpwmsNPBohvs",
        "outputId": "8252e087-b28f-40c5-9c37-b90a9a589b82"
      },
      "source": [
        "df.dtypes"
      ],
      "execution_count": 153,
      "outputs": [
        {
          "output_type": "execute_result",
          "data": {
            "text/plain": [
              "Product     object\n",
              "Price       object\n",
              "category    object\n",
              "Filename    object\n",
              "Retailer    object\n",
              "dtype: object"
            ]
          },
          "metadata": {
            "tags": []
          },
          "execution_count": 153
        }
      ]
    },
    {
      "cell_type": "markdown",
      "metadata": {
        "id": "3sA1dz06ozzN"
      },
      "source": [
        "The column 'Price' is an object. We need to convert it to a float.\n",
        "\n",
        "So, the first thing to do is to get ride of the currency symbol."
      ]
    },
    {
      "cell_type": "code",
      "metadata": {
        "colab": {
          "base_uri": "https://localhost:8080/"
        },
        "id": "zPuTp8ZEouAj",
        "outputId": "28aa722f-8f5d-4fda-9ad5-071dacb71373"
      },
      "source": [
        "def convert_currency_to_int(val):\n",
        "  #these are the different caracteres noticed in the prices\n",
        "  val=val.replace(\"TND\",\"\").replace(\",\",\".\").replace(\"Â\",\"\")\n",
        "  try:\n",
        "    val=float(val)\n",
        "  except:\n",
        "    val=0\n",
        "  return val\n",
        "\n",
        "\n",
        "def clean_col(row):\n",
        "  current_value = row['Price']\n",
        "  row['Price'] = convert_currency_to_int(current_value )\n",
        "  return row \n",
        "df= df.apply(clean_col, axis=1)\n",
        "\n",
        "print(df.head())"
      ],
      "execution_count": 154,
      "outputs": [
        {
          "output_type": "stream",
          "text": [
            "                                 Product  Price category  Filename Retailer\n",
            "0                ROBE EN SATIN IMPRIMÃE  119.0  dresses  zara.csv     zara\n",
            "1                          ROBE SATINÃE  119.0  dresses  zara.csv     zara\n",
            "2             ROBE PORTEFEUILLE SATINÃE  119.0  dresses  zara.csv     zara\n",
            "3  ROBE EN SATIN AVEC IMPRIMÃ Ã FLEURS  139.0  dresses  zara.csv     zara\n",
            "4                          ROBE SATINÃE  139.0  dresses  zara.csv     zara\n"
          ],
          "name": "stdout"
        }
      ]
    },
    {
      "cell_type": "markdown",
      "metadata": {
        "id": "7l5nmSiPrt0X"
      },
      "source": [
        "Now, our price column is no longer an object. \n",
        "Let's check that."
      ]
    },
    {
      "cell_type": "code",
      "metadata": {
        "colab": {
          "base_uri": "https://localhost:8080/"
        },
        "id": "B_322Up5qFl2",
        "outputId": "af379a6c-4b4f-4b74-d2b8-2aa9aa3e0c1b"
      },
      "source": [
        "df.dtypes"
      ],
      "execution_count": 155,
      "outputs": [
        {
          "output_type": "execute_result",
          "data": {
            "text/plain": [
              "Product      object\n",
              "Price       float64\n",
              "category     object\n",
              "Filename     object\n",
              "Retailer     object\n",
              "dtype: object"
            ]
          },
          "metadata": {
            "tags": []
          },
          "execution_count": 155
        }
      ]
    },
    {
      "cell_type": "markdown",
      "metadata": {
        "id": "LdjAyj8YsUup"
      },
      "source": [
        "Now, let's sort our data by price. \n",
        "from the cheapest to the most expensive.\n"
      ]
    },
    {
      "cell_type": "code",
      "metadata": {
        "colab": {
          "base_uri": "https://localhost:8080/",
          "height": 203
        },
        "id": "rBIKCEHOsFG4",
        "outputId": "df30077f-f015-42d3-b15a-9eaa6fd360c3"
      },
      "source": [
        "df.sort_values(by=['Price'],inplace=True)\n",
        "df.head()"
      ],
      "execution_count": 156,
      "outputs": [
        {
          "output_type": "execute_result",
          "data": {
            "text/html": [
              "<div>\n",
              "<style scoped>\n",
              "    .dataframe tbody tr th:only-of-type {\n",
              "        vertical-align: middle;\n",
              "    }\n",
              "\n",
              "    .dataframe tbody tr th {\n",
              "        vertical-align: top;\n",
              "    }\n",
              "\n",
              "    .dataframe thead th {\n",
              "        text-align: right;\n",
              "    }\n",
              "</style>\n",
              "<table border=\"1\" class=\"dataframe\">\n",
              "  <thead>\n",
              "    <tr style=\"text-align: right;\">\n",
              "      <th></th>\n",
              "      <th>Product</th>\n",
              "      <th>Price</th>\n",
              "      <th>category</th>\n",
              "      <th>Filename</th>\n",
              "      <th>Retailer</th>\n",
              "    </tr>\n",
              "  </thead>\n",
              "  <tbody>\n",
              "    <tr>\n",
              "      <th>646</th>\n",
              "      <td>Bottes cuir Goodyear welted</td>\n",
              "      <td>0.0</td>\n",
              "      <td>shoes</td>\n",
              "      <td>mango.csv</td>\n",
              "      <td>mango</td>\n",
              "    </tr>\n",
              "    <tr>\n",
              "      <th>867</th>\n",
              "      <td>NAFNAF â Blue Cotton-blend skinny pants</td>\n",
              "      <td>3.0</td>\n",
              "      <td>pants</td>\n",
              "      <td>drest.csv</td>\n",
              "      <td>drest</td>\n",
              "    </tr>\n",
              "    <tr>\n",
              "      <th>803</th>\n",
              "      <td>Robe blouse noire en jean Ã  manches bouffantes</td>\n",
              "      <td>3.0</td>\n",
              "      <td>dresses</td>\n",
              "      <td>drest.csv</td>\n",
              "      <td>drest</td>\n",
              "    </tr>\n",
              "    <tr>\n",
              "      <th>1101</th>\n",
              "      <td>NAFNAF â Sac Ã  main â mauve</td>\n",
              "      <td>3.0</td>\n",
              "      <td>accessories</td>\n",
              "      <td>drest.csv</td>\n",
              "      <td>drest</td>\n",
              "    </tr>\n",
              "    <tr>\n",
              "      <th>973</th>\n",
              "      <td>NAFNAF â T-SHIRT FLUIDE AVEC BORDURE EN DENT...</td>\n",
              "      <td>3.0</td>\n",
              "      <td>t-shirts</td>\n",
              "      <td>drest.csv</td>\n",
              "      <td>drest</td>\n",
              "    </tr>\n",
              "  </tbody>\n",
              "</table>\n",
              "</div>"
            ],
            "text/plain": [
              "                                                Product  ...  Retailer\n",
              "646                         Bottes cuir Goodyear welted  ...     mango\n",
              "867           NAFNAF â Blue Cotton-blend skinny pants  ...     drest\n",
              "803     Robe blouse noire en jean Ã  manches bouffantes  ...     drest\n",
              "1101                   NAFNAF â Sac Ã  main â mauve  ...     drest\n",
              "973   NAFNAF â T-SHIRT FLUIDE AVEC BORDURE EN DENT...  ...     drest\n",
              "\n",
              "[5 rows x 5 columns]"
            ]
          },
          "metadata": {
            "tags": []
          },
          "execution_count": 156
        }
      ]
    },
    {
      "cell_type": "markdown",
      "metadata": {
        "id": "6eOiddz7uBKk"
      },
      "source": [
        "The first value of price is 0. \n",
        "\n",
        "After verifying the row of index 646 before the conversion, we have found that it has the following value: ' 1Â 299,90 TND'\n",
        "\n",
        "We don't know what is exactly the price for that article, so the best choice to do is to drop that row because we can't decide about its price. "
      ]
    },
    {
      "cell_type": "code",
      "metadata": {
        "id": "uzBJKd8qsp57"
      },
      "source": [
        "df = df.drop(646, axis=0)"
      ],
      "execution_count": 157,
      "outputs": []
    },
    {
      "cell_type": "markdown",
      "metadata": {
        "id": "MEYj5nwJu7Bb"
      },
      "source": [
        "So, now we have our data sortd by price.\n",
        "\n",
        "Let's see the cheapest articles, their categories and where they are sold."
      ]
    },
    {
      "cell_type": "code",
      "metadata": {
        "colab": {
          "base_uri": "https://localhost:8080/",
          "height": 357
        },
        "id": "gY_rBylIu0hW",
        "outputId": "d372d513-1195-47c9-d71f-1f1ee7d1e78c"
      },
      "source": [
        "df.head(10)"
      ],
      "execution_count": 158,
      "outputs": [
        {
          "output_type": "execute_result",
          "data": {
            "text/html": [
              "<div>\n",
              "<style scoped>\n",
              "    .dataframe tbody tr th:only-of-type {\n",
              "        vertical-align: middle;\n",
              "    }\n",
              "\n",
              "    .dataframe tbody tr th {\n",
              "        vertical-align: top;\n",
              "    }\n",
              "\n",
              "    .dataframe thead th {\n",
              "        text-align: right;\n",
              "    }\n",
              "</style>\n",
              "<table border=\"1\" class=\"dataframe\">\n",
              "  <thead>\n",
              "    <tr style=\"text-align: right;\">\n",
              "      <th></th>\n",
              "      <th>Product</th>\n",
              "      <th>Price</th>\n",
              "      <th>category</th>\n",
              "      <th>Filename</th>\n",
              "      <th>Retailer</th>\n",
              "    </tr>\n",
              "  </thead>\n",
              "  <tbody>\n",
              "    <tr>\n",
              "      <th>867</th>\n",
              "      <td>NAFNAF â Blue Cotton-blend skinny pants</td>\n",
              "      <td>3.00</td>\n",
              "      <td>pants</td>\n",
              "      <td>drest.csv</td>\n",
              "      <td>drest</td>\n",
              "    </tr>\n",
              "    <tr>\n",
              "      <th>803</th>\n",
              "      <td>Robe blouse noire en jean Ã  manches bouffantes</td>\n",
              "      <td>3.00</td>\n",
              "      <td>dresses</td>\n",
              "      <td>drest.csv</td>\n",
              "      <td>drest</td>\n",
              "    </tr>\n",
              "    <tr>\n",
              "      <th>1101</th>\n",
              "      <td>NAFNAF â Sac Ã  main â mauve</td>\n",
              "      <td>3.00</td>\n",
              "      <td>accessories</td>\n",
              "      <td>drest.csv</td>\n",
              "      <td>drest</td>\n",
              "    </tr>\n",
              "    <tr>\n",
              "      <th>973</th>\n",
              "      <td>NAFNAF â T-SHIRT FLUIDE AVEC BORDURE EN DENT...</td>\n",
              "      <td>3.00</td>\n",
              "      <td>t-shirts</td>\n",
              "      <td>drest.csv</td>\n",
              "      <td>drest</td>\n",
              "    </tr>\n",
              "    <tr>\n",
              "      <th>931</th>\n",
              "      <td>RIVER ISLAND -Brown spot cropped blazer</td>\n",
              "      <td>3.00</td>\n",
              "      <td>blazers</td>\n",
              "      <td>drest.csv</td>\n",
              "      <td>drest</td>\n",
              "    </tr>\n",
              "    <tr>\n",
              "      <th>1037</th>\n",
              "      <td>DREST COLLECTION â Sandale Ã  talon carrÃ© a...</td>\n",
              "      <td>3.00</td>\n",
              "      <td>shoes</td>\n",
              "      <td>drest.csv</td>\n",
              "      <td>drest</td>\n",
              "    </tr>\n",
              "    <tr>\n",
              "      <th>1154</th>\n",
              "      <td>NewLook â Black Faux Croc Mini Shoulder Bag</td>\n",
              "      <td>13.90</td>\n",
              "      <td>accessories</td>\n",
              "      <td>drest.csv</td>\n",
              "      <td>drest</td>\n",
              "    </tr>\n",
              "    <tr>\n",
              "      <th>308</th>\n",
              "      <td>Top</td>\n",
              "      <td>15.99</td>\n",
              "      <td>t-shirts</td>\n",
              "      <td>shana.csv</td>\n",
              "      <td>shana</td>\n",
              "    </tr>\n",
              "    <tr>\n",
              "      <th>773</th>\n",
              "      <td>DÃ©bardeur femme</td>\n",
              "      <td>15.99</td>\n",
              "      <td>t-shirts</td>\n",
              "      <td>HA.csv</td>\n",
              "      <td>HA</td>\n",
              "    </tr>\n",
              "    <tr>\n",
              "      <th>1005</th>\n",
              "      <td>Top noir froissÃ© Ã  col V et manches chauve-s...</td>\n",
              "      <td>18.80</td>\n",
              "      <td>t-shirts</td>\n",
              "      <td>drest.csv</td>\n",
              "      <td>drest</td>\n",
              "    </tr>\n",
              "  </tbody>\n",
              "</table>\n",
              "</div>"
            ],
            "text/plain": [
              "                                                Product  ...  Retailer\n",
              "867           NAFNAF â Blue Cotton-blend skinny pants  ...     drest\n",
              "803     Robe blouse noire en jean Ã  manches bouffantes  ...     drest\n",
              "1101                   NAFNAF â Sac Ã  main â mauve  ...     drest\n",
              "973   NAFNAF â T-SHIRT FLUIDE AVEC BORDURE EN DENT...  ...     drest\n",
              "931             RIVER ISLAND -Brown spot cropped blazer  ...     drest\n",
              "1037  DREST COLLECTION â Sandale Ã  talon carrÃ© a...  ...     drest\n",
              "1154      NewLook â Black Faux Croc Mini Shoulder Bag  ...     drest\n",
              "308                                                 Top  ...     shana\n",
              "773                                   DÃ©bardeur femme   ...        HA\n",
              "1005  Top noir froissÃ© Ã  col V et manches chauve-s...  ...     drest\n",
              "\n",
              "[10 rows x 5 columns]"
            ]
          },
          "metadata": {
            "tags": []
          },
          "execution_count": 158
        }
      ]
    },
    {
      "cell_type": "markdown",
      "metadata": {
        "id": "y_h0FrGwvR8o"
      },
      "source": [
        "We can understand that the cheapest articles are from 'drest', then 'shana' and 'HA'. \n",
        "Their categories are different. "
      ]
    },
    {
      "cell_type": "code",
      "metadata": {
        "colab": {
          "base_uri": "https://localhost:8080/",
          "height": 357
        },
        "id": "HFv3z--Au5Sa",
        "outputId": "55e30560-38da-4df1-f440-17ba939ae0a5"
      },
      "source": [
        "df.tail(10)"
      ],
      "execution_count": 159,
      "outputs": [
        {
          "output_type": "execute_result",
          "data": {
            "text/html": [
              "<div>\n",
              "<style scoped>\n",
              "    .dataframe tbody tr th:only-of-type {\n",
              "        vertical-align: middle;\n",
              "    }\n",
              "\n",
              "    .dataframe tbody tr th {\n",
              "        vertical-align: top;\n",
              "    }\n",
              "\n",
              "    .dataframe thead th {\n",
              "        text-align: right;\n",
              "    }\n",
              "</style>\n",
              "<table border=\"1\" class=\"dataframe\">\n",
              "  <thead>\n",
              "    <tr style=\"text-align: right;\">\n",
              "      <th></th>\n",
              "      <th>Product</th>\n",
              "      <th>Price</th>\n",
              "      <th>category</th>\n",
              "      <th>Filename</th>\n",
              "      <th>Retailer</th>\n",
              "    </tr>\n",
              "  </thead>\n",
              "  <tbody>\n",
              "    <tr>\n",
              "      <th>966</th>\n",
              "      <td>Gilet de costume blanc boutonnÃ© Ã  coupe droite</td>\n",
              "      <td>679.0</td>\n",
              "      <td>blazers</td>\n",
              "      <td>drest.csv</td>\n",
              "      <td>drest</td>\n",
              "    </tr>\n",
              "    <tr>\n",
              "      <th>962</th>\n",
              "      <td>NafNaf â Veste Ã  double boutonnage femme</td>\n",
              "      <td>719.0</td>\n",
              "      <td>blazers</td>\n",
              "      <td>drest.csv</td>\n",
              "      <td>drest</td>\n",
              "    </tr>\n",
              "    <tr>\n",
              "      <th>960</th>\n",
              "      <td>Maison 1 2 3 â Blue Mid-length jacket with t...</td>\n",
              "      <td>759.0</td>\n",
              "      <td>blazers</td>\n",
              "      <td>drest.csv</td>\n",
              "      <td>drest</td>\n",
              "    </tr>\n",
              "    <tr>\n",
              "      <th>953</th>\n",
              "      <td>Newlook â Blue Cropped Denim Jacket</td>\n",
              "      <td>819.0</td>\n",
              "      <td>blazers</td>\n",
              "      <td>drest.csv</td>\n",
              "      <td>drest</td>\n",
              "    </tr>\n",
              "    <tr>\n",
              "      <th>804</th>\n",
              "      <td>NAFNAF â Robe dâÃ©tÃ© femme Ã  manches tra...</td>\n",
              "      <td>1144.9</td>\n",
              "      <td>dresses</td>\n",
              "      <td>drest.csv</td>\n",
              "      <td>drest</td>\n",
              "    </tr>\n",
              "    <tr>\n",
              "      <th>868</th>\n",
              "      <td>NAFNAF â Pantalon Droit noir pour femme</td>\n",
              "      <td>1144.9</td>\n",
              "      <td>pants</td>\n",
              "      <td>drest.csv</td>\n",
              "      <td>drest</td>\n",
              "    </tr>\n",
              "    <tr>\n",
              "      <th>974</th>\n",
              "      <td>ETAM -KARMA DÃ©bardeur bas dentelle, Ecru</td>\n",
              "      <td>1144.9</td>\n",
              "      <td>t-shirts</td>\n",
              "      <td>drest.csv</td>\n",
              "      <td>drest</td>\n",
              "    </tr>\n",
              "    <tr>\n",
              "      <th>932</th>\n",
              "      <td>RIVER ISLAND -BLACK SL GATSBY VEST</td>\n",
              "      <td>1144.9</td>\n",
              "      <td>blazers</td>\n",
              "      <td>drest.csv</td>\n",
              "      <td>drest</td>\n",
              "    </tr>\n",
              "    <tr>\n",
              "      <th>1038</th>\n",
              "      <td>DREST COLLECTION â Sandale a talon pailletÃ©...</td>\n",
              "      <td>1144.9</td>\n",
              "      <td>shoes</td>\n",
              "      <td>drest.csv</td>\n",
              "      <td>drest</td>\n",
              "    </tr>\n",
              "    <tr>\n",
              "      <th>1102</th>\n",
              "      <td>NAFNAF â Skimono Ceinture Femme</td>\n",
              "      <td>1144.9</td>\n",
              "      <td>accessories</td>\n",
              "      <td>drest.csv</td>\n",
              "      <td>drest</td>\n",
              "    </tr>\n",
              "  </tbody>\n",
              "</table>\n",
              "</div>"
            ],
            "text/plain": [
              "                                                Product  ...  Retailer\n",
              "966    Gilet de costume blanc boutonnÃ© Ã  coupe droite  ...     drest\n",
              "962         NafNaf â Veste Ã  double boutonnage femme  ...     drest\n",
              "960   Maison 1 2 3 â Blue Mid-length jacket with t...  ...     drest\n",
              "953               Newlook â Blue Cropped Denim Jacket  ...     drest\n",
              "804   NAFNAF â Robe dâÃ©tÃ© femme Ã  manches tra...  ...     drest\n",
              "868           NAFNAF â Pantalon Droit noir pour femme  ...     drest\n",
              "974           ETAM -KARMA DÃ©bardeur bas dentelle, Ecru  ...     drest\n",
              "932                  RIVER ISLAND -BLACK SL GATSBY VEST  ...     drest\n",
              "1038  DREST COLLECTION â Sandale a talon pailletÃ©...  ...     drest\n",
              "1102                  NAFNAF â Skimono Ceinture Femme  ...     drest\n",
              "\n",
              "[10 rows x 5 columns]"
            ]
          },
          "metadata": {
            "tags": []
          },
          "execution_count": 159
        }
      ]
    },
    {
      "cell_type": "markdown",
      "metadata": {
        "id": "oAr3MWtIwg-9"
      },
      "source": [
        "Also, the most expensive ones are from 'drest'."
      ]
    },
    {
      "cell_type": "markdown",
      "metadata": {
        "id": "neWpHfVIxhl4"
      },
      "source": [
        "Now, notice that the name of the articles are in french.\n",
        "Let's translate them to english.\n",
        "we first need to remove the non ascii characters."
      ]
    },
    {
      "cell_type": "code",
      "metadata": {
        "colab": {
          "base_uri": "https://localhost:8080/"
        },
        "id": "Tq0gdsLHx-h3",
        "outputId": "26a5f981-b268-4822-9910-555e67b65885"
      },
      "source": [
        "def encode_product(s):\n",
        "  s=s.encode(\"ascii\", \"ignore\")\n",
        "  s=s.decode(\"utf-8\") \n",
        "  return s\n",
        "\n",
        "\n",
        "def clean_prod(row):\n",
        "  current_value = row['Product']\n",
        "  row['Product'] = encode_product(current_value)\n",
        "  return row \n",
        "\n",
        "df= df.apply(clean_prod, axis=1)\n",
        "\n",
        "print(df.head())"
      ],
      "execution_count": 160,
      "outputs": [
        {
          "output_type": "stream",
          "text": [
            "                                              Product  ...  Retailer\n",
            "867            NAFNAF  Blue Cotton-blend skinny pants  ...     drest\n",
            "803     Robe blouse noire en jean  manches bouffantes  ...     drest\n",
            "1101                         NAFNAF  Sac  main  mauve  ...     drest\n",
            "973   NAFNAF  T-SHIRT FLUIDE AVEC BORDURE EN DENTELLE  ...     drest\n",
            "931           RIVER ISLAND -Brown spot cropped blazer  ...     drest\n",
            "\n",
            "[5 rows x 5 columns]\n"
          ],
          "name": "stdout"
        }
      ]
    },
    {
      "cell_type": "markdown",
      "metadata": {
        "id": "LuM2PRxV8USz"
      },
      "source": [
        "Now, we do the translation of the name of the product from French to English."
      ]
    },
    {
      "cell_type": "code",
      "metadata": {
        "id": "D6kMNl-BzrsE"
      },
      "source": [
        "from deep_translator import GoogleTranslator\n"
      ],
      "execution_count": 161,
      "outputs": []
    },
    {
      "cell_type": "code",
      "metadata": {
        "colab": {
          "base_uri": "https://localhost:8080/"
        },
        "id": "iiZpjNEhzKoB",
        "outputId": "14c001cd-480a-4ce1-c10f-27cf1be3f329"
      },
      "source": [
        "def translate_product(s):\n",
        "  current= s \n",
        "  s = GoogleTranslator(source='fr', target=\"en\").translate(current)\n",
        "  return s\n",
        "\n",
        "\n",
        "def translate_prod(row):\n",
        "  current_value = row['Product']\n",
        "  row['Product'] = translate_product(current_value)\n",
        "  return row \n",
        "\n",
        "df= df.apply(translate_prod, axis=1)\n",
        "\n",
        "print(df.head())"
      ],
      "execution_count": 162,
      "outputs": [
        {
          "output_type": "stream",
          "text": [
            "                                      Product  Price  ...   Filename Retailer\n",
            "867     NAFNAF Blue Cotton-blend skinny pants    3.0  ...  drest.csv    drest\n",
            "803      Black puff sleeve denim blouse dress    3.0  ...  drest.csv    drest\n",
            "1101                     NAFNAF Handbag mauve    3.0  ...  drest.csv    drest\n",
            "973       NAFNAF FLUID T-SHIRT WITH LACE TRIM    3.0  ...  drest.csv    drest\n",
            "931   RIVER ISLAND -Brown spot cropped blazer    3.0  ...  drest.csv    drest\n",
            "\n",
            "[5 rows x 5 columns]\n"
          ],
          "name": "stdout"
        }
      ]
    },
    {
      "cell_type": "code",
      "metadata": {
        "colab": {
          "base_uri": "https://localhost:8080/"
        },
        "id": "XVdFd_iuY1mM",
        "outputId": "6ca0d040-b37b-4f4e-879e-56c285ee2467"
      },
      "source": [
        "df['Price'].describe()"
      ],
      "execution_count": 167,
      "outputs": [
        {
          "output_type": "execute_result",
          "data": {
            "text/plain": [
              "count    1164.000000\n",
              "mean      127.179871\n",
              "std       114.646304\n",
              "min         3.000000\n",
              "25%        63.990000\n",
              "50%       104.900000\n",
              "75%       139.000000\n",
              "max      1144.900000\n",
              "Name: Price, dtype: float64"
            ]
          },
          "metadata": {
            "tags": []
          },
          "execution_count": 167
        }
      ]
    },
    {
      "cell_type": "markdown",
      "metadata": {
        "id": "Yd96rCo2aBzp"
      },
      "source": [
        "We can see here that the minimum price is 3 TND , the maximum is 1144 TND. The median value is 104 TND and the standard deviation is 114.65"
      ]
    },
    {
      "cell_type": "code",
      "metadata": {
        "colab": {
          "base_uri": "https://localhost:8080/",
          "height": 286
        },
        "id": "tgEzmw7KY48H",
        "outputId": "e66e27f7-3ada-4f0b-a253-984ba14d7f93"
      },
      "source": [
        "sns.boxplot(data=df['Price'])"
      ],
      "execution_count": 171,
      "outputs": [
        {
          "output_type": "execute_result",
          "data": {
            "text/plain": [
              "<matplotlib.axes._subplots.AxesSubplot at 0x7f6347c0aa10>"
            ]
          },
          "metadata": {
            "tags": []
          },
          "execution_count": 171
        },
        {
          "output_type": "display_data",
          "data": {
            "image/png": "[encoded data removed]",
            "text/plain": [
              "<Figure size 432x288 with 1 Axes>"
            ]
          },
          "metadata": {
            "tags": [],
            "needs_background": "light"
          }
        }
      ]
    },
    {
      "cell_type": "markdown",
      "metadata": {
        "id": "SqHNFp7Ldth4"
      },
      "source": [
        "The outliers are basically between 400 and 1200."
      ]
    },
    {
      "cell_type": "markdown",
      "metadata": {
        "id": "9PDuAboKcFZ2"
      },
      "source": [
        "Using the box plot, we conclude that we have outliers. \n",
        "These outliers indicate variance in our data but they can affect further statistical modelling. "
      ]
    },
    {
      "cell_type": "code",
      "metadata": {
        "colab": {
          "base_uri": "https://localhost:8080/",
          "height": 494
        },
        "id": "QlzjeQPXZxBe",
        "outputId": "fcf3c190-a640-4a7d-99c3-32623aa9cc64"
      },
      "source": [
        "fig, ax = plt.subplots(figsize=(16,8))\n",
        "ax.scatter(df['Product'], df['Price'])\n",
        "ax.set_xlabel('the name of the product')\n",
        "ax.set_ylabel('the variable')\n",
        "plt.show()"
      ],
      "execution_count": 177,
      "outputs": [
        {
          "output_type": "display_data",
          "data": {
            "image/png": "[encoded data removed]",
            "text/plain": [
              "<Figure size 1152x576 with 1 Axes>"
            ]
          },
          "metadata": {
            "tags": [],
            "needs_background": "light"
          }
        }
      ]
    },
    {
      "cell_type": "markdown",
      "metadata": {
        "id": "qeQCrEpzfRm_"
      },
      "source": [
        "Looking at the plot above, we can see that most of data points are lying in the bottom but there are points which are far from the other observations like top right corner."
      ]
    },
    {
      "cell_type": "markdown",
      "metadata": {
        "id": "9ayHGQP_fia7"
      },
      "source": [
        "let's discover these outliers with mathematical function z-score."
      ]
    },
    {
      "cell_type": "code",
      "metadata": {
        "colab": {
          "base_uri": "https://localhost:8080/"
        },
        "id": "Ssds8BwQeXR-",
        "outputId": "04ab164c-5dde-4c01-acf0-746696903ed6"
      },
      "source": [
        "z = np.abs(stats.zscore(df['Price']))\n",
        "print(z)"
      ],
      "execution_count": 181,
      "outputs": [
        {
          "output_type": "stream",
          "text": [
            "[1.08362192 1.08362192 1.08362192 ... 8.88085829 8.88085829 8.88085829]\n"
          ],
          "name": "stdout"
        }
      ]
    },
    {
      "cell_type": "code",
      "metadata": {
        "colab": {
          "base_uri": "https://localhost:8080/"
        },
        "id": "_3KsiwgogYSH",
        "outputId": "62ec0691-a75f-4406-b8e7-a55639bab462"
      },
      "source": [
        "threshold = 3\n",
        "print(np.where(z > 8))"
      ],
      "execution_count": 184,
      "outputs": [
        {
          "output_type": "stream",
          "text": [
            "(array([1158, 1159, 1160, 1161, 1162, 1163]),)\n"
          ],
          "name": "stdout"
        }
      ]
    },
    {
      "cell_type": "code",
      "metadata": {
        "colab": {
          "base_uri": "https://localhost:8080/",
          "height": 203
        },
        "id": "0h_1i1fQgpjB",
        "outputId": "a2cae63a-1647-4887-9b8b-3367a78aca09"
      },
      "source": [
        "df['Price_zscore'] = (df['Price'] - df['Price'].mean())/df['Price'].std(ddof=0)\n",
        "df.head()"
      ],
      "execution_count": 185,
      "outputs": [
        {
          "output_type": "execute_result",
          "data": {
            "text/html": [
              "<div>\n",
              "<style scoped>\n",
              "    .dataframe tbody tr th:only-of-type {\n",
              "        vertical-align: middle;\n",
              "    }\n",
              "\n",
              "    .dataframe tbody tr th {\n",
              "        vertical-align: top;\n",
              "    }\n",
              "\n",
              "    .dataframe thead th {\n",
              "        text-align: right;\n",
              "    }\n",
              "</style>\n",
              "<table border=\"1\" class=\"dataframe\">\n",
              "  <thead>\n",
              "    <tr style=\"text-align: right;\">\n",
              "      <th></th>\n",
              "      <th>Product</th>\n",
              "      <th>Price</th>\n",
              "      <th>category</th>\n",
              "      <th>Filename</th>\n",
              "      <th>Retailer</th>\n",
              "      <th>Price_zscore</th>\n",
              "    </tr>\n",
              "  </thead>\n",
              "  <tbody>\n",
              "    <tr>\n",
              "      <th>867</th>\n",
              "      <td>NAFNAF Blue Cotton-blend skinny pants</td>\n",
              "      <td>3.0</td>\n",
              "      <td>pants</td>\n",
              "      <td>drest.csv</td>\n",
              "      <td>drest</td>\n",
              "      <td>-1.083622</td>\n",
              "    </tr>\n",
              "    <tr>\n",
              "      <th>803</th>\n",
              "      <td>Black puff sleeve denim blouse dress</td>\n",
              "      <td>3.0</td>\n",
              "      <td>dresses</td>\n",
              "      <td>drest.csv</td>\n",
              "      <td>drest</td>\n",
              "      <td>-1.083622</td>\n",
              "    </tr>\n",
              "    <tr>\n",
              "      <th>1101</th>\n",
              "      <td>NAFNAF Handbag mauve</td>\n",
              "      <td>3.0</td>\n",
              "      <td>accessories</td>\n",
              "      <td>drest.csv</td>\n",
              "      <td>drest</td>\n",
              "      <td>-1.083622</td>\n",
              "    </tr>\n",
              "    <tr>\n",
              "      <th>973</th>\n",
              "      <td>NAFNAF FLUID T-SHIRT WITH LACE TRIM</td>\n",
              "      <td>3.0</td>\n",
              "      <td>t-shirts</td>\n",
              "      <td>drest.csv</td>\n",
              "      <td>drest</td>\n",
              "      <td>-1.083622</td>\n",
              "    </tr>\n",
              "    <tr>\n",
              "      <th>931</th>\n",
              "      <td>RIVER ISLAND -Brown spot cropped blazer</td>\n",
              "      <td>3.0</td>\n",
              "      <td>blazers</td>\n",
              "      <td>drest.csv</td>\n",
              "      <td>drest</td>\n",
              "      <td>-1.083622</td>\n",
              "    </tr>\n",
              "  </tbody>\n",
              "</table>\n",
              "</div>"
            ],
            "text/plain": [
              "                                      Product  Price  ... Retailer Price_zscore\n",
              "867     NAFNAF Blue Cotton-blend skinny pants    3.0  ...    drest    -1.083622\n",
              "803      Black puff sleeve denim blouse dress    3.0  ...    drest    -1.083622\n",
              "1101                     NAFNAF Handbag mauve    3.0  ...    drest    -1.083622\n",
              "973       NAFNAF FLUID T-SHIRT WITH LACE TRIM    3.0  ...    drest    -1.083622\n",
              "931   RIVER ISLAND -Brown spot cropped blazer    3.0  ...    drest    -1.083622\n",
              "\n",
              "[5 rows x 6 columns]"
            ]
          },
          "metadata": {
            "tags": []
          },
          "execution_count": 185
        }
      ]
    },
    {
      "cell_type": "markdown",
      "metadata": {
        "id": "0Di7u8XhiJq7"
      },
      "source": [
        "Creating a new column in my data frame, which would be called \"data_zscore\" where I take the row value and I subtract that columns mean from that row value and divide by the standard deviation of that column. Normalized by N-1 by default.\n",
        "Z-Score is essentially how many standard deviations away is my actual value from the mean value based on the business context"
      ]
    },
    {
      "cell_type": "markdown",
      "metadata": {
        "id": "vgbbis4wjpU_"
      },
      "source": [
        "we define the threshold value for the z score to classify a point as an outlier or not in the current scheme of things. Here we pass 3 for the threshold value as seen below:"
      ]
    },
    {
      "cell_type": "code",
      "metadata": {
        "colab": {
          "base_uri": "https://localhost:8080/"
        },
        "id": "6M0MkVzWh0Bn",
        "outputId": "3acfbb9d-7b38-497e-8a9a-2cbc26f0c143"
      },
      "source": [
        "df['Price_zscore'].value_counts()"
      ],
      "execution_count": 187,
      "outputs": [
        {
          "output_type": "execute_result",
          "data": {
            "text/plain": [
              " 0.103145    126\n",
              "-0.071379    107\n",
              " 0.539457     75\n",
              "-0.238050     55\n",
              "-0.412575     41\n",
              "            ... \n",
              " 5.164358      1\n",
              "-0.442331      1\n",
              " 2.201803      1\n",
              "-0.402976      1\n",
              " 2.903392      1\n",
              "Name: Price_zscore, Length: 182, dtype: int64"
            ]
          },
          "metadata": {
            "tags": []
          },
          "execution_count": 187
        }
      ]
    },
    {
      "cell_type": "code",
      "metadata": {
        "id": "lkZAG4eAh4Pw"
      },
      "source": [
        "df[\"outlier\"] = (abs(df['Price_zscore'])>3).astype(int)"
      ],
      "execution_count": 188,
      "outputs": []
    },
    {
      "cell_type": "code",
      "metadata": {
        "colab": {
          "base_uri": "https://localhost:8080/",
          "height": 203
        },
        "id": "EYhRjP0OkAeP",
        "outputId": "adfe96f4-ada4-4e62-b97c-67fa4ff36f6a"
      },
      "source": [
        "df.head()"
      ],
      "execution_count": 189,
      "outputs": [
        {
          "output_type": "execute_result",
          "data": {
            "text/html": [
              "<div>\n",
              "<style scoped>\n",
              "    .dataframe tbody tr th:only-of-type {\n",
              "        vertical-align: middle;\n",
              "    }\n",
              "\n",
              "    .dataframe tbody tr th {\n",
              "        vertical-align: top;\n",
              "    }\n",
              "\n",
              "    .dataframe thead th {\n",
              "        text-align: right;\n",
              "    }\n",
              "</style>\n",
              "<table border=\"1\" class=\"dataframe\">\n",
              "  <thead>\n",
              "    <tr style=\"text-align: right;\">\n",
              "      <th></th>\n",
              "      <th>Product</th>\n",
              "      <th>Price</th>\n",
              "      <th>category</th>\n",
              "      <th>Filename</th>\n",
              "      <th>Retailer</th>\n",
              "      <th>Price_zscore</th>\n",
              "      <th>outlier</th>\n",
              "    </tr>\n",
              "  </thead>\n",
              "  <tbody>\n",
              "    <tr>\n",
              "      <th>867</th>\n",
              "      <td>NAFNAF Blue Cotton-blend skinny pants</td>\n",
              "      <td>3.0</td>\n",
              "      <td>pants</td>\n",
              "      <td>drest.csv</td>\n",
              "      <td>drest</td>\n",
              "      <td>-1.083622</td>\n",
              "      <td>0</td>\n",
              "    </tr>\n",
              "    <tr>\n",
              "      <th>803</th>\n",
              "      <td>Black puff sleeve denim blouse dress</td>\n",
              "      <td>3.0</td>\n",
              "      <td>dresses</td>\n",
              "      <td>drest.csv</td>\n",
              "      <td>drest</td>\n",
              "      <td>-1.083622</td>\n",
              "      <td>0</td>\n",
              "    </tr>\n",
              "    <tr>\n",
              "      <th>1101</th>\n",
              "      <td>NAFNAF Handbag mauve</td>\n",
              "      <td>3.0</td>\n",
              "      <td>accessories</td>\n",
              "      <td>drest.csv</td>\n",
              "      <td>drest</td>\n",
              "      <td>-1.083622</td>\n",
              "      <td>0</td>\n",
              "    </tr>\n",
              "    <tr>\n",
              "      <th>973</th>\n",
              "      <td>NAFNAF FLUID T-SHIRT WITH LACE TRIM</td>\n",
              "      <td>3.0</td>\n",
              "      <td>t-shirts</td>\n",
              "      <td>drest.csv</td>\n",
              "      <td>drest</td>\n",
              "      <td>-1.083622</td>\n",
              "      <td>0</td>\n",
              "    </tr>\n",
              "    <tr>\n",
              "      <th>931</th>\n",
              "      <td>RIVER ISLAND -Brown spot cropped blazer</td>\n",
              "      <td>3.0</td>\n",
              "      <td>blazers</td>\n",
              "      <td>drest.csv</td>\n",
              "      <td>drest</td>\n",
              "      <td>-1.083622</td>\n",
              "      <td>0</td>\n",
              "    </tr>\n",
              "  </tbody>\n",
              "</table>\n",
              "</div>"
            ],
            "text/plain": [
              "                                      Product  Price  ... Price_zscore outlier\n",
              "867     NAFNAF Blue Cotton-blend skinny pants    3.0  ...    -1.083622       0\n",
              "803      Black puff sleeve denim blouse dress    3.0  ...    -1.083622       0\n",
              "1101                     NAFNAF Handbag mauve    3.0  ...    -1.083622       0\n",
              "973       NAFNAF FLUID T-SHIRT WITH LACE TRIM    3.0  ...    -1.083622       0\n",
              "931   RIVER ISLAND -Brown spot cropped blazer    3.0  ...    -1.083622       0\n",
              "\n",
              "[5 rows x 7 columns]"
            ]
          },
          "metadata": {
            "tags": []
          },
          "execution_count": 189
        }
      ]
    },
    {
      "cell_type": "code",
      "metadata": {
        "colab": {
          "base_uri": "https://localhost:8080/",
          "height": 203
        },
        "id": "PGAs1e5wkB-Y",
        "outputId": "73cce1a2-0707-46bd-f3cb-49156a3aa58f"
      },
      "source": [
        "df.tail()"
      ],
      "execution_count": 190,
      "outputs": [
        {
          "output_type": "execute_result",
          "data": {
            "text/html": [
              "<div>\n",
              "<style scoped>\n",
              "    .dataframe tbody tr th:only-of-type {\n",
              "        vertical-align: middle;\n",
              "    }\n",
              "\n",
              "    .dataframe tbody tr th {\n",
              "        vertical-align: top;\n",
              "    }\n",
              "\n",
              "    .dataframe thead th {\n",
              "        text-align: right;\n",
              "    }\n",
              "</style>\n",
              "<table border=\"1\" class=\"dataframe\">\n",
              "  <thead>\n",
              "    <tr style=\"text-align: right;\">\n",
              "      <th></th>\n",
              "      <th>Product</th>\n",
              "      <th>Price</th>\n",
              "      <th>category</th>\n",
              "      <th>Filename</th>\n",
              "      <th>Retailer</th>\n",
              "      <th>Price_zscore</th>\n",
              "      <th>outlier</th>\n",
              "    </tr>\n",
              "  </thead>\n",
              "  <tbody>\n",
              "    <tr>\n",
              "      <th>868</th>\n",
              "      <td>NAFNAF Black straight pants for women</td>\n",
              "      <td>1144.9</td>\n",
              "      <td>pants</td>\n",
              "      <td>drest.csv</td>\n",
              "      <td>drest</td>\n",
              "      <td>8.880858</td>\n",
              "      <td>1</td>\n",
              "    </tr>\n",
              "    <tr>\n",
              "      <th>974</th>\n",
              "      <td>ETAM -KARMA Lace hem tank top, Ecru</td>\n",
              "      <td>1144.9</td>\n",
              "      <td>t-shirts</td>\n",
              "      <td>drest.csv</td>\n",
              "      <td>drest</td>\n",
              "      <td>8.880858</td>\n",
              "      <td>1</td>\n",
              "    </tr>\n",
              "    <tr>\n",
              "      <th>932</th>\n",
              "      <td>RIVER ISLAND -BLACK SL GATSBY VEST</td>\n",
              "      <td>1144.9</td>\n",
              "      <td>blazers</td>\n",
              "      <td>drest.csv</td>\n",
              "      <td>drest</td>\n",
              "      <td>8.880858</td>\n",
              "      <td>1</td>\n",
              "    </tr>\n",
              "    <tr>\n",
              "      <th>1038</th>\n",
              "      <td>DREST COLLECTION Glitter heeled sandal in black</td>\n",
              "      <td>1144.9</td>\n",
              "      <td>shoes</td>\n",
              "      <td>drest.csv</td>\n",
              "      <td>drest</td>\n",
              "      <td>8.880858</td>\n",
              "      <td>1</td>\n",
              "    </tr>\n",
              "    <tr>\n",
              "      <th>1102</th>\n",
              "      <td>NAFNAF Skimono Belt Women</td>\n",
              "      <td>1144.9</td>\n",
              "      <td>accessories</td>\n",
              "      <td>drest.csv</td>\n",
              "      <td>drest</td>\n",
              "      <td>8.880858</td>\n",
              "      <td>1</td>\n",
              "    </tr>\n",
              "  </tbody>\n",
              "</table>\n",
              "</div>"
            ],
            "text/plain": [
              "                                              Product  ...  outlier\n",
              "868             NAFNAF Black straight pants for women  ...        1\n",
              "974               ETAM -KARMA Lace hem tank top, Ecru  ...        1\n",
              "932                RIVER ISLAND -BLACK SL GATSBY VEST  ...        1\n",
              "1038  DREST COLLECTION Glitter heeled sandal in black  ...        1\n",
              "1102                        NAFNAF Skimono Belt Women  ...        1\n",
              "\n",
              "[5 rows x 7 columns]"
            ]
          },
          "metadata": {
            "tags": []
          },
          "execution_count": 190
        }
      ]
    },
    {
      "cell_type": "markdown",
      "metadata": {
        "id": "EiIIW7W3kGrE"
      },
      "source": [
        "You can see that the highest prices are considered as outliers because for these retailers most of the articles have a low or average price. The number of highly expensive articles is very low compared to the rest of articles. "
      ]
    },
    {
      "cell_type": "markdown",
      "metadata": {
        "id": "9AX7vrHHkwbO"
      },
      "source": [
        "Let' get all of the outliers. "
      ]
    },
    {
      "cell_type": "code",
      "metadata": {
        "colab": {
          "base_uri": "https://localhost:8080/",
          "height": 573
        },
        "id": "UnDQ97kWkEor",
        "outputId": "20ecbc36-32cf-45b6-8603-dd07e969627c"
      },
      "source": [
        "df.loc[df.outlier == 1]"
      ],
      "execution_count": 191,
      "outputs": [
        {
          "output_type": "execute_result",
          "data": {
            "text/html": [
              "<div>\n",
              "<style scoped>\n",
              "    .dataframe tbody tr th:only-of-type {\n",
              "        vertical-align: middle;\n",
              "    }\n",
              "\n",
              "    .dataframe tbody tr th {\n",
              "        vertical-align: top;\n",
              "    }\n",
              "\n",
              "    .dataframe thead th {\n",
              "        text-align: right;\n",
              "    }\n",
              "</style>\n",
              "<table border=\"1\" class=\"dataframe\">\n",
              "  <thead>\n",
              "    <tr style=\"text-align: right;\">\n",
              "      <th></th>\n",
              "      <th>Product</th>\n",
              "      <th>Price</th>\n",
              "      <th>category</th>\n",
              "      <th>Filename</th>\n",
              "      <th>Retailer</th>\n",
              "      <th>Price_zscore</th>\n",
              "      <th>outlier</th>\n",
              "    </tr>\n",
              "  </thead>\n",
              "  <tbody>\n",
              "    <tr>\n",
              "      <th>942</th>\n",
              "      <td>SALSA JEANS Oversized denim jacket with synthe...</td>\n",
              "      <td>494.9</td>\n",
              "      <td>blazers</td>\n",
              "      <td>drest.csv</td>\n",
              "      <td>drest</td>\n",
              "      <td>3.208810</td>\n",
              "      <td>1</td>\n",
              "    </tr>\n",
              "    <tr>\n",
              "      <th>956</th>\n",
              "      <td>Newlook Gray Oversized Blazer</td>\n",
              "      <td>519.0</td>\n",
              "      <td>blazers</td>\n",
              "      <td>drest.csv</td>\n",
              "      <td>drest</td>\n",
              "      <td>3.419112</td>\n",
              "      <td>1</td>\n",
              "    </tr>\n",
              "    <tr>\n",
              "      <th>946</th>\n",
              "      <td>RIVER ISLAND -BLACK TWILL DB BLAZER</td>\n",
              "      <td>519.0</td>\n",
              "      <td>blazers</td>\n",
              "      <td>drest.csv</td>\n",
              "      <td>drest</td>\n",
              "      <td>3.419112</td>\n",
              "      <td>1</td>\n",
              "    </tr>\n",
              "    <tr>\n",
              "      <th>958</th>\n",
              "      <td>NewLook Black sudine biker jacket</td>\n",
              "      <td>559.0</td>\n",
              "      <td>blazers</td>\n",
              "      <td>drest.csv</td>\n",
              "      <td>drest</td>\n",
              "      <td>3.768161</td>\n",
              "      <td>1</td>\n",
              "    </tr>\n",
              "    <tr>\n",
              "      <th>861</th>\n",
              "      <td>Newlook Short brick red linen effect jumpsuit ...</td>\n",
              "      <td>599.0</td>\n",
              "      <td>dresses</td>\n",
              "      <td>drest.csv</td>\n",
              "      <td>drest</td>\n",
              "      <td>4.117210</td>\n",
              "      <td>1</td>\n",
              "    </tr>\n",
              "    <tr>\n",
              "      <th>822</th>\n",
              "      <td>Newlook White button-down linen-effect playsuit</td>\n",
              "      <td>599.0</td>\n",
              "      <td>dresses</td>\n",
              "      <td>drest.csv</td>\n",
              "      <td>drest</td>\n",
              "      <td>4.117210</td>\n",
              "      <td>1</td>\n",
              "    </tr>\n",
              "    <tr>\n",
              "      <th>964</th>\n",
              "      <td>Short blue denim jacket</td>\n",
              "      <td>679.0</td>\n",
              "      <td>blazers</td>\n",
              "      <td>drest.csv</td>\n",
              "      <td>drest</td>\n",
              "      <td>4.815308</td>\n",
              "      <td>1</td>\n",
              "    </tr>\n",
              "    <tr>\n",
              "      <th>966</th>\n",
              "      <td>White straight cut button-down suit waistcoat</td>\n",
              "      <td>679.0</td>\n",
              "      <td>blazers</td>\n",
              "      <td>drest.csv</td>\n",
              "      <td>drest</td>\n",
              "      <td>4.815308</td>\n",
              "      <td>1</td>\n",
              "    </tr>\n",
              "    <tr>\n",
              "      <th>962</th>\n",
              "      <td>NafNaf Women's double-breasted jacket</td>\n",
              "      <td>719.0</td>\n",
              "      <td>blazers</td>\n",
              "      <td>drest.csv</td>\n",
              "      <td>drest</td>\n",
              "      <td>5.164358</td>\n",
              "      <td>1</td>\n",
              "    </tr>\n",
              "    <tr>\n",
              "      <th>960</th>\n",
              "      <td>Maison 1 2 3 Blue Mid-length jacket with tailo...</td>\n",
              "      <td>759.0</td>\n",
              "      <td>blazers</td>\n",
              "      <td>drest.csv</td>\n",
              "      <td>drest</td>\n",
              "      <td>5.513407</td>\n",
              "      <td>1</td>\n",
              "    </tr>\n",
              "    <tr>\n",
              "      <th>953</th>\n",
              "      <td>Newlook Blue Cropped Denim Jacket</td>\n",
              "      <td>819.0</td>\n",
              "      <td>blazers</td>\n",
              "      <td>drest.csv</td>\n",
              "      <td>drest</td>\n",
              "      <td>6.036980</td>\n",
              "      <td>1</td>\n",
              "    </tr>\n",
              "    <tr>\n",
              "      <th>804</th>\n",
              "      <td>NAFNAF Women's dt dress with transparent sleeves</td>\n",
              "      <td>1144.9</td>\n",
              "      <td>dresses</td>\n",
              "      <td>drest.csv</td>\n",
              "      <td>drest</td>\n",
              "      <td>8.880858</td>\n",
              "      <td>1</td>\n",
              "    </tr>\n",
              "    <tr>\n",
              "      <th>868</th>\n",
              "      <td>NAFNAF Black straight pants for women</td>\n",
              "      <td>1144.9</td>\n",
              "      <td>pants</td>\n",
              "      <td>drest.csv</td>\n",
              "      <td>drest</td>\n",
              "      <td>8.880858</td>\n",
              "      <td>1</td>\n",
              "    </tr>\n",
              "    <tr>\n",
              "      <th>974</th>\n",
              "      <td>ETAM -KARMA Lace hem tank top, Ecru</td>\n",
              "      <td>1144.9</td>\n",
              "      <td>t-shirts</td>\n",
              "      <td>drest.csv</td>\n",
              "      <td>drest</td>\n",
              "      <td>8.880858</td>\n",
              "      <td>1</td>\n",
              "    </tr>\n",
              "    <tr>\n",
              "      <th>932</th>\n",
              "      <td>RIVER ISLAND -BLACK SL GATSBY VEST</td>\n",
              "      <td>1144.9</td>\n",
              "      <td>blazers</td>\n",
              "      <td>drest.csv</td>\n",
              "      <td>drest</td>\n",
              "      <td>8.880858</td>\n",
              "      <td>1</td>\n",
              "    </tr>\n",
              "    <tr>\n",
              "      <th>1038</th>\n",
              "      <td>DREST COLLECTION Glitter heeled sandal in black</td>\n",
              "      <td>1144.9</td>\n",
              "      <td>shoes</td>\n",
              "      <td>drest.csv</td>\n",
              "      <td>drest</td>\n",
              "      <td>8.880858</td>\n",
              "      <td>1</td>\n",
              "    </tr>\n",
              "    <tr>\n",
              "      <th>1102</th>\n",
              "      <td>NAFNAF Skimono Belt Women</td>\n",
              "      <td>1144.9</td>\n",
              "      <td>accessories</td>\n",
              "      <td>drest.csv</td>\n",
              "      <td>drest</td>\n",
              "      <td>8.880858</td>\n",
              "      <td>1</td>\n",
              "    </tr>\n",
              "  </tbody>\n",
              "</table>\n",
              "</div>"
            ],
            "text/plain": [
              "                                                Product  ...  outlier\n",
              "942   SALSA JEANS Oversized denim jacket with synthe...  ...        1\n",
              "956                       Newlook Gray Oversized Blazer  ...        1\n",
              "946                 RIVER ISLAND -BLACK TWILL DB BLAZER  ...        1\n",
              "958                   NewLook Black sudine biker jacket  ...        1\n",
              "861   Newlook Short brick red linen effect jumpsuit ...  ...        1\n",
              "822     Newlook White button-down linen-effect playsuit  ...        1\n",
              "964                             Short blue denim jacket  ...        1\n",
              "966       White straight cut button-down suit waistcoat  ...        1\n",
              "962               NafNaf Women's double-breasted jacket  ...        1\n",
              "960   Maison 1 2 3 Blue Mid-length jacket with tailo...  ...        1\n",
              "953                   Newlook Blue Cropped Denim Jacket  ...        1\n",
              "804    NAFNAF Women's dt dress with transparent sleeves  ...        1\n",
              "868               NAFNAF Black straight pants for women  ...        1\n",
              "974                 ETAM -KARMA Lace hem tank top, Ecru  ...        1\n",
              "932                  RIVER ISLAND -BLACK SL GATSBY VEST  ...        1\n",
              "1038    DREST COLLECTION Glitter heeled sandal in black  ...        1\n",
              "1102                          NAFNAF Skimono Belt Women  ...        1\n",
              "\n",
              "[17 rows x 7 columns]"
            ]
          },
          "metadata": {
            "tags": []
          },
          "execution_count": 191
        }
      ]
    },
    {
      "cell_type": "markdown",
      "metadata": {
        "id": "1pF4TT1wmPWG"
      },
      "source": [
        "Here, the outliers are not due to incorrectly entered or measured data."
      ]
    },
    {
      "cell_type": "code",
      "metadata": {
        "colab": {
          "base_uri": "https://localhost:8080/",
          "height": 295
        },
        "id": "y-0FGDfBk4M1",
        "outputId": "12c5c86e-b1f3-458a-c59c-bd9a552a36da"
      },
      "source": [
        "stats.probplot(df['Price'], dist=\"norm\", plot=plt)\n",
        "plt.show()"
      ],
      "execution_count": 192,
      "outputs": [
        {
          "output_type": "display_data",
          "data": {
            "image/png": "[encoded data removed]",
            "text/plain": [
              "<Figure size 432x288 with 1 Axes>"
            ]
          },
          "metadata": {
            "tags": [],
            "needs_background": "light"
          }
        }
      ]
    },
    {
      "cell_type": "markdown",
      "metadata": {
        "id": "PbUSaYzfog5n"
      },
      "source": [
        "The problem is that these outliers are not sampling mistakes. They represent the price range and the number of corresponding articles in this industrie. \n",
        "\n",
        "That's why, it's not a good idea to drop them or transform them. \n"
      ]
    },
    {
      "cell_type": "markdown",
      "metadata": {
        "id": "6u6mOpI-qy-2"
      },
      "source": [
        "Now, we drop the outlier and z-score columns. "
      ]
    },
    {
      "cell_type": "code",
      "metadata": {
        "id": "lFgJJUnDqxt-"
      },
      "source": [
        "df.drop(['Price_zscore','outlier'], axis = 1, inplace=True)"
      ],
      "execution_count": 199,
      "outputs": []
    },
    {
      "cell_type": "code",
      "metadata": {
        "colab": {
          "base_uri": "https://localhost:8080/",
          "height": 203
        },
        "id": "1dZqwPVJrYVn",
        "outputId": "5de7d54e-cd79-4c6b-e988-b9bff936683e"
      },
      "source": [
        "df.head()"
      ],
      "execution_count": 200,
      "outputs": [
        {
          "output_type": "execute_result",
          "data": {
            "text/html": [
              "<div>\n",
              "<style scoped>\n",
              "    .dataframe tbody tr th:only-of-type {\n",
              "        vertical-align: middle;\n",
              "    }\n",
              "\n",
              "    .dataframe tbody tr th {\n",
              "        vertical-align: top;\n",
              "    }\n",
              "\n",
              "    .dataframe thead th {\n",
              "        text-align: right;\n",
              "    }\n",
              "</style>\n",
              "<table border=\"1\" class=\"dataframe\">\n",
              "  <thead>\n",
              "    <tr style=\"text-align: right;\">\n",
              "      <th></th>\n",
              "      <th>Product</th>\n",
              "      <th>Price</th>\n",
              "      <th>category</th>\n",
              "      <th>Filename</th>\n",
              "      <th>Retailer</th>\n",
              "    </tr>\n",
              "  </thead>\n",
              "  <tbody>\n",
              "    <tr>\n",
              "      <th>867</th>\n",
              "      <td>NAFNAF Blue Cotton-blend skinny pants</td>\n",
              "      <td>3.0</td>\n",
              "      <td>pants</td>\n",
              "      <td>drest.csv</td>\n",
              "      <td>drest</td>\n",
              "    </tr>\n",
              "    <tr>\n",
              "      <th>803</th>\n",
              "      <td>Black puff sleeve denim blouse dress</td>\n",
              "      <td>3.0</td>\n",
              "      <td>dresses</td>\n",
              "      <td>drest.csv</td>\n",
              "      <td>drest</td>\n",
              "    </tr>\n",
              "    <tr>\n",
              "      <th>1101</th>\n",
              "      <td>NAFNAF Handbag mauve</td>\n",
              "      <td>3.0</td>\n",
              "      <td>accessories</td>\n",
              "      <td>drest.csv</td>\n",
              "      <td>drest</td>\n",
              "    </tr>\n",
              "    <tr>\n",
              "      <th>973</th>\n",
              "      <td>NAFNAF FLUID T-SHIRT WITH LACE TRIM</td>\n",
              "      <td>3.0</td>\n",
              "      <td>t-shirts</td>\n",
              "      <td>drest.csv</td>\n",
              "      <td>drest</td>\n",
              "    </tr>\n",
              "    <tr>\n",
              "      <th>931</th>\n",
              "      <td>RIVER ISLAND -Brown spot cropped blazer</td>\n",
              "      <td>3.0</td>\n",
              "      <td>blazers</td>\n",
              "      <td>drest.csv</td>\n",
              "      <td>drest</td>\n",
              "    </tr>\n",
              "  </tbody>\n",
              "</table>\n",
              "</div>"
            ],
            "text/plain": [
              "                                      Product  Price  ...   Filename Retailer\n",
              "867     NAFNAF Blue Cotton-blend skinny pants    3.0  ...  drest.csv    drest\n",
              "803      Black puff sleeve denim blouse dress    3.0  ...  drest.csv    drest\n",
              "1101                     NAFNAF Handbag mauve    3.0  ...  drest.csv    drest\n",
              "973       NAFNAF FLUID T-SHIRT WITH LACE TRIM    3.0  ...  drest.csv    drest\n",
              "931   RIVER ISLAND -Brown spot cropped blazer    3.0  ...  drest.csv    drest\n",
              "\n",
              "[5 rows x 5 columns]"
            ]
          },
          "metadata": {
            "tags": []
          },
          "execution_count": 200
        }
      ]
    },
    {
      "cell_type": "markdown",
      "metadata": {
        "id": "2H_b8RrypVCt"
      },
      "source": [
        "Let's now save the pre-processed data and move to the next step."
      ]
    },
    {
      "cell_type": "code",
      "metadata": {
        "id": "WKKjMRdToLPj"
      },
      "source": [
        "df.to_csv('preprocessed_dataset.csv',index=False)"
      ],
      "execution_count": 202,
      "outputs": []
    },
    {
      "cell_type": "code",
      "metadata": {
        "id": "rvlL6sKLpifZ"
      },
      "source": [
        ""
      ],
      "execution_count": null,
      "outputs": []
    }
  ]
}