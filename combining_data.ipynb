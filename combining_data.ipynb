{
  "nbformat": 4,
  "nbformat_minor": 0,
  "metadata": {
    "colab": {
      "name": "combining_data.ipynb",
      "provenance": []
    },
    "kernelspec": {
      "name": "python3",
      "display_name": "Python 3"
    },
    "language_info": {
      "name": "python"
    }
  },
  "cells": [
    {
      "cell_type": "code",
      "metadata": {
        "id": "BfHAncnIfQV8"
      },
      "source": [
        "import pandas as pd\n",
        "import os"
      ],
      "execution_count": 35,
      "outputs": []
    },
    {
      "cell_type": "code",
      "metadata": {
        "colab": {
          "base_uri": "https://localhost:8080/"
        },
        "id": "HTho__BSfysY",
        "outputId": "7e43cbe8-bbd4-46dd-9574-0d30e90b5f04"
      },
      "source": [
        "from google.colab import drive \n",
        "drive.mount('/content/gdrive')"
      ],
      "execution_count": 36,
      "outputs": [
        {
          "output_type": "stream",
          "text": [
            "Drive already mounted at /content/gdrive; to attempt to forcibly remount, call drive.mount(\"/content/gdrive\", force_remount=True).\n"
          ],
          "name": "stdout"
        }
      ]
    },
    {
      "cell_type": "markdown",
      "metadata": {
        "id": "mJJam3xwirL5"
      },
      "source": [
        "Let's read one of the csv files we have."
      ]
    },
    {
      "cell_type": "code",
      "metadata": {
        "id": "_D0fdZbmf1EL"
      },
      "source": [
        "df=pd.read_csv('gdrive/My Drive/collected_data/zara.csv', encoding= 'unicode_escape')"
      ],
      "execution_count": 37,
      "outputs": []
    },
    {
      "cell_type": "code",
      "metadata": {
        "colab": {
          "base_uri": "https://localhost:8080/",
          "height": 203
        },
        "id": "OES4nqBEgBnG",
        "outputId": "008c569e-ef65-4b6f-e036-aec50d315b12"
      },
      "source": [
        "df.head()"
      ],
      "execution_count": 38,
      "outputs": [
        {
          "output_type": "execute_result",
          "data": {
            "text/html": [
              "<div>\n",
              "<style scoped>\n",
              "    .dataframe tbody tr th:only-of-type {\n",
              "        vertical-align: middle;\n",
              "    }\n",
              "\n",
              "    .dataframe tbody tr th {\n",
              "        vertical-align: top;\n",
              "    }\n",
              "\n",
              "    .dataframe thead th {\n",
              "        text-align: right;\n",
              "    }\n",
              "</style>\n",
              "<table border=\"1\" class=\"dataframe\">\n",
              "  <thead>\n",
              "    <tr style=\"text-align: right;\">\n",
              "      <th></th>\n",
              "      <th>Product</th>\n",
              "      <th>Price</th>\n",
              "      <th>category</th>\n",
              "    </tr>\n",
              "  </thead>\n",
              "  <tbody>\n",
              "    <tr>\n",
              "      <th>0</th>\n",
              "      <td>ROBE EN SATIN IMPRIMÃE</td>\n",
              "      <td>119,00 TND</td>\n",
              "      <td>dresses</td>\n",
              "    </tr>\n",
              "    <tr>\n",
              "      <th>1</th>\n",
              "      <td>ROBE SATINÃE</td>\n",
              "      <td>119,00 TND</td>\n",
              "      <td>dresses</td>\n",
              "    </tr>\n",
              "    <tr>\n",
              "      <th>2</th>\n",
              "      <td>ROBE PORTEFEUILLE SATINÃE</td>\n",
              "      <td>119,00 TND</td>\n",
              "      <td>dresses</td>\n",
              "    </tr>\n",
              "    <tr>\n",
              "      <th>3</th>\n",
              "      <td>ROBE EN SATIN AVEC IMPRIMÃ Ã FLEURS</td>\n",
              "      <td>139,00 TND</td>\n",
              "      <td>dresses</td>\n",
              "    </tr>\n",
              "    <tr>\n",
              "      <th>4</th>\n",
              "      <td>ROBE SATINÃE</td>\n",
              "      <td>139,00 TND</td>\n",
              "      <td>dresses</td>\n",
              "    </tr>\n",
              "  </tbody>\n",
              "</table>\n",
              "</div>"
            ],
            "text/plain": [
              "                                 Product       Price category\n",
              "0                ROBE EN SATIN IMPRIMÃE  119,00 TND  dresses\n",
              "1                          ROBE SATINÃE  119,00 TND  dresses\n",
              "2             ROBE PORTEFEUILLE SATINÃE  119,00 TND  dresses\n",
              "3  ROBE EN SATIN AVEC IMPRIMÃ Ã FLEURS  139,00 TND  dresses\n",
              "4                          ROBE SATINÃE  139,00 TND  dresses"
            ]
          },
          "metadata": {
            "tags": []
          },
          "execution_count": 38
        }
      ]
    },
    {
      "cell_type": "markdown",
      "metadata": {
        "id": "aaqp8qByi0Ha"
      },
      "source": [
        "As shown in the dataframe, we have the name of the product, its price and its category."
      ]
    },
    {
      "cell_type": "code",
      "metadata": {
        "colab": {
          "base_uri": "https://localhost:8080/",
          "height": 203
        },
        "id": "laqeNelrgDfG",
        "outputId": "8abec061-1097-44fd-8456-5244bf8f2ecb"
      },
      "source": [
        "df.tail()"
      ],
      "execution_count": 39,
      "outputs": [
        {
          "output_type": "execute_result",
          "data": {
            "text/html": [
              "<div>\n",
              "<style scoped>\n",
              "    .dataframe tbody tr th:only-of-type {\n",
              "        vertical-align: middle;\n",
              "    }\n",
              "\n",
              "    .dataframe tbody tr th {\n",
              "        vertical-align: top;\n",
              "    }\n",
              "\n",
              "    .dataframe thead th {\n",
              "        text-align: right;\n",
              "    }\n",
              "</style>\n",
              "<table border=\"1\" class=\"dataframe\">\n",
              "  <thead>\n",
              "    <tr style=\"text-align: right;\">\n",
              "      <th></th>\n",
              "      <th>Product</th>\n",
              "      <th>Price</th>\n",
              "      <th>category</th>\n",
              "    </tr>\n",
              "  </thead>\n",
              "  <tbody>\n",
              "    <tr>\n",
              "      <th>185</th>\n",
              "      <td>CHOUCHOU FOULARD IMPRIMÃ</td>\n",
              "      <td>35,90 TND</td>\n",
              "      <td>accessories</td>\n",
              "    </tr>\n",
              "    <tr>\n",
              "      <th>186</th>\n",
              "      <td>TROUSSE MATELASSÃE ET IMPRIMÃE</td>\n",
              "      <td>35,90 TND</td>\n",
              "      <td>accessories</td>\n",
              "    </tr>\n",
              "    <tr>\n",
              "      <th>187</th>\n",
              "      <td>TROUSSE MATELASSÃE ET IMPRIMÃE</td>\n",
              "      <td>35,90 TND</td>\n",
              "      <td>accessories</td>\n",
              "    </tr>\n",
              "    <tr>\n",
              "      <th>188</th>\n",
              "      <td>TROUSSE MATELASSÃE ET IMPRIMÃE</td>\n",
              "      <td>59,90 TND</td>\n",
              "      <td>accessories</td>\n",
              "    </tr>\n",
              "    <tr>\n",
              "      <th>189</th>\n",
              "      <td>TROUSSE MATELASSÃE ET IMPRIMÃE</td>\n",
              "      <td>59,90 TND</td>\n",
              "      <td>accessories</td>\n",
              "    </tr>\n",
              "  </tbody>\n",
              "</table>\n",
              "</div>"
            ],
            "text/plain": [
              "                              Product      Price     category\n",
              "185         CHOUCHOU FOULARD IMPRIMÃ  35,90 TND  accessories\n",
              "186  TROUSSE MATELASSÃE ET IMPRIMÃE  35,90 TND  accessories\n",
              "187  TROUSSE MATELASSÃE ET IMPRIMÃE  35,90 TND  accessories\n",
              "188  TROUSSE MATELASSÃE ET IMPRIMÃE  59,90 TND  accessories\n",
              "189  TROUSSE MATELASSÃE ET IMPRIMÃE  59,90 TND  accessories"
            ]
          },
          "metadata": {
            "tags": []
          },
          "execution_count": 39
        }
      ]
    },
    {
      "cell_type": "code",
      "metadata": {
        "colab": {
          "base_uri": "https://localhost:8080/"
        },
        "id": "GAOEJcV9gGNr",
        "outputId": "49c27746-448a-43d2-cf58-643348c91fa0"
      },
      "source": [
        "df.shape"
      ],
      "execution_count": 40,
      "outputs": [
        {
          "output_type": "execute_result",
          "data": {
            "text/plain": [
              "(190, 3)"
            ]
          },
          "metadata": {
            "tags": []
          },
          "execution_count": 40
        }
      ]
    },
    {
      "cell_type": "markdown",
      "metadata": {
        "id": "RLKA0hAzjEbo"
      },
      "source": [
        "In the first file which is corresponding to 'Zara', we have 190 elements."
      ]
    },
    {
      "cell_type": "markdown",
      "metadata": {
        "id": "SggLnoyrjTnQ"
      },
      "source": [
        "Now, let's have a look at an other one."
      ]
    },
    {
      "cell_type": "code",
      "metadata": {
        "id": "Gi7mrC9cgQ8o"
      },
      "source": [
        "df=pd.read_csv('gdrive/My Drive/collected_data/mango.csv', encoding= 'unicode_escape')"
      ],
      "execution_count": 41,
      "outputs": []
    },
    {
      "cell_type": "code",
      "metadata": {
        "colab": {
          "base_uri": "https://localhost:8080/",
          "height": 203
        },
        "id": "cdP__wj8gr4G",
        "outputId": "b4355e09-255f-4f77-aec7-6ad24e3c93d5"
      },
      "source": [
        "df.head()"
      ],
      "execution_count": 42,
      "outputs": [
        {
          "output_type": "execute_result",
          "data": {
            "text/html": [
              "<div>\n",
              "<style scoped>\n",
              "    .dataframe tbody tr th:only-of-type {\n",
              "        vertical-align: middle;\n",
              "    }\n",
              "\n",
              "    .dataframe tbody tr th {\n",
              "        vertical-align: top;\n",
              "    }\n",
              "\n",
              "    .dataframe thead th {\n",
              "        text-align: right;\n",
              "    }\n",
              "</style>\n",
              "<table border=\"1\" class=\"dataframe\">\n",
              "  <thead>\n",
              "    <tr style=\"text-align: right;\">\n",
              "      <th></th>\n",
              "      <th>Product</th>\n",
              "      <th>Price</th>\n",
              "      <th>category</th>\n",
              "    </tr>\n",
              "  </thead>\n",
              "  <tbody>\n",
              "    <tr>\n",
              "      <th>0</th>\n",
              "      <td>Robe texturÃ©e imprimÃ©e</td>\n",
              "      <td>119 TND</td>\n",
              "      <td>dresses</td>\n",
              "    </tr>\n",
              "    <tr>\n",
              "      <th>1</th>\n",
              "      <td>Robe texturÃ©e imprimÃ©e</td>\n",
              "      <td>119 TND</td>\n",
              "      <td>dresses</td>\n",
              "    </tr>\n",
              "    <tr>\n",
              "      <th>2</th>\n",
              "      <td>Salopette denim Wideleg</td>\n",
              "      <td>189 TND</td>\n",
              "      <td>dresses</td>\n",
              "    </tr>\n",
              "    <tr>\n",
              "      <th>3</th>\n",
              "      <td>Robe imprimÃ©e nÅuds</td>\n",
              "      <td>139 TND</td>\n",
              "      <td>dresses</td>\n",
              "    </tr>\n",
              "    <tr>\n",
              "      <th>4</th>\n",
              "      <td>Robe imprimÃ©e nÅuds</td>\n",
              "      <td>139 TND</td>\n",
              "      <td>dresses</td>\n",
              "    </tr>\n",
              "  </tbody>\n",
              "</table>\n",
              "</div>"
            ],
            "text/plain": [
              "                    Product    Price category\n",
              "0  Robe texturÃ©e imprimÃ©e  119 TND  dresses\n",
              "1  Robe texturÃ©e imprimÃ©e  119 TND  dresses\n",
              "2   Salopette denim Wideleg  189 TND  dresses\n",
              "3     Robe imprimÃ©e nÅuds  139 TND  dresses\n",
              "4     Robe imprimÃ©e nÅuds  139 TND  dresses"
            ]
          },
          "metadata": {
            "tags": []
          },
          "execution_count": 42
        }
      ]
    },
    {
      "cell_type": "code",
      "metadata": {
        "colab": {
          "base_uri": "https://localhost:8080/",
          "height": 203
        },
        "id": "X_hDXZFGgsCv",
        "outputId": "81f41694-b6e0-43ee-fead-828626958a9b"
      },
      "source": [
        "df.tail()"
      ],
      "execution_count": 43,
      "outputs": [
        {
          "output_type": "execute_result",
          "data": {
            "text/html": [
              "<div>\n",
              "<style scoped>\n",
              "    .dataframe tbody tr th:only-of-type {\n",
              "        vertical-align: middle;\n",
              "    }\n",
              "\n",
              "    .dataframe tbody tr th {\n",
              "        vertical-align: top;\n",
              "    }\n",
              "\n",
              "    .dataframe thead th {\n",
              "        text-align: right;\n",
              "    }\n",
              "</style>\n",
              "<table border=\"1\" class=\"dataframe\">\n",
              "  <thead>\n",
              "    <tr style=\"text-align: right;\">\n",
              "      <th></th>\n",
              "      <th>Product</th>\n",
              "      <th>Price</th>\n",
              "      <th>category</th>\n",
              "    </tr>\n",
              "  </thead>\n",
              "  <tbody>\n",
              "    <tr>\n",
              "      <th>395</th>\n",
              "      <td>CrÃ©oles irrÃ©guliÃ¨res</td>\n",
              "      <td>45,90 TND</td>\n",
              "      <td>accessories</td>\n",
              "    </tr>\n",
              "    <tr>\n",
              "      <th>396</th>\n",
              "      <td>CrÃ©oles irrÃ©guliÃ¨res</td>\n",
              "      <td>45,90 TND</td>\n",
              "      <td>accessories</td>\n",
              "    </tr>\n",
              "    <tr>\n",
              "      <th>397</th>\n",
              "      <td>Set boucles dâoreilles combinÃ©es</td>\n",
              "      <td>45,90 TND</td>\n",
              "      <td>accessories</td>\n",
              "    </tr>\n",
              "    <tr>\n",
              "      <th>398</th>\n",
              "      <td>Set boucles dâoreilles combinÃ©es</td>\n",
              "      <td>45,90 TND</td>\n",
              "      <td>accessories</td>\n",
              "    </tr>\n",
              "    <tr>\n",
              "      <th>399</th>\n",
              "      <td>CrÃ©oles</td>\n",
              "      <td>45,90 TND</td>\n",
              "      <td>accessories</td>\n",
              "    </tr>\n",
              "  </tbody>\n",
              "</table>\n",
              "</div>"
            ],
            "text/plain": [
              "                                 Product      Price     category\n",
              "395              CrÃ©oles irrÃ©guliÃ¨res  45,90 TND  accessories\n",
              "396              CrÃ©oles irrÃ©guliÃ¨res  45,90 TND  accessories\n",
              "397  Set boucles dâoreilles combinÃ©es  45,90 TND  accessories\n",
              "398  Set boucles dâoreilles combinÃ©es  45,90 TND  accessories\n",
              "399                             CrÃ©oles  45,90 TND  accessories"
            ]
          },
          "metadata": {
            "tags": []
          },
          "execution_count": 43
        }
      ]
    },
    {
      "cell_type": "code",
      "metadata": {
        "colab": {
          "base_uri": "https://localhost:8080/"
        },
        "id": "LozrQum7gsJs",
        "outputId": "28e95e02-8d98-49e1-f819-698e43f95d0e"
      },
      "source": [
        "df.shape"
      ],
      "execution_count": 44,
      "outputs": [
        {
          "output_type": "execute_result",
          "data": {
            "text/plain": [
              "(400, 3)"
            ]
          },
          "metadata": {
            "tags": []
          },
          "execution_count": 44
        }
      ]
    },
    {
      "cell_type": "markdown",
      "metadata": {
        "id": "di7p9ebLjaZV"
      },
      "source": [
        "For mango, we have collected 400 elements."
      ]
    },
    {
      "cell_type": "markdown",
      "metadata": {
        "id": "6uXvdhgrjiAr"
      },
      "source": [
        "Now, let's show all the files we have in our directory."
      ]
    },
    {
      "cell_type": "code",
      "metadata": {
        "colab": {
          "base_uri": "https://localhost:8080/"
        },
        "id": "nMd5DY93hOo0",
        "outputId": "730bd182-2c40-492b-e17a-77a497d8a804"
      },
      "source": [
        "data = []\n",
        "\n",
        "for filename in os.listdir('gdrive/My Drive/collected_data'):\n",
        "    if filename.endswith(\"csv\"): \n",
        "        # Your code comes here such as \n",
        "        print(filename)\n",
        "        data.append(filename)\n",
        "print(data)"
      ],
      "execution_count": 45,
      "outputs": [
        {
          "output_type": "stream",
          "text": [
            "zara.csv\n",
            "shana.csv\n",
            "mango.csv\n",
            "HA.csv\n",
            "drest.csv\n",
            "['zara.csv', 'shana.csv', 'mango.csv', 'HA.csv', 'drest.csv']\n"
          ],
          "name": "stdout"
        }
      ]
    },
    {
      "cell_type": "markdown",
      "metadata": {
        "id": "2xpVQJo3joeb"
      },
      "source": [
        "In order to combine the 5 datasets into one, we need a reference for each one to know the source of the element. So, we are going to add the name of the file and the name of the retailer to each row. "
      ]
    },
    {
      "cell_type": "code",
      "metadata": {
        "colab": {
          "base_uri": "https://localhost:8080/"
        },
        "id": "YAozIBf2hcPg",
        "outputId": "d5120ec0-4711-4781-b515-aac91a221ad1"
      },
      "source": [
        "complete_dataframe=pd.DataFrame()\n",
        "my_dataframes=[]\n",
        "for filename in os.listdir('gdrive/My Drive/collected_data'):\n",
        "    if filename.endswith(\"csv\"): \n",
        "      path ='gdrive/My Drive/collected_data/'+filename\n",
        "      df=pd.read_csv(path, encoding= 'unicode_escape')\n",
        "\n",
        "      df['Filename'] = filename\n",
        "      #if we remove '.csv' from the name of the file, we get the name of the retailer\n",
        "      retailer_name=filename.replace(\".csv\",\"\")\n",
        "      df['Retailer']= retailer_name\n",
        "      print(df.head(2))\n",
        "      my_dataframes.append(df)"
      ],
      "execution_count": 46,
      "outputs": [
        {
          "output_type": "stream",
          "text": [
            "                   Product       Price category  Filename Retailer\n",
            "0  ROBE EN SATIN IMPRIMÃE  119,00 TND  dresses  zara.csv     zara\n",
            "1            ROBE SATINÃE  119,00 TND  dresses  zara.csv     zara\n",
            "   Product       Price category   Filename Retailer\n",
            "0  Legging  54,99Â TND  dresses  shana.csv    shana\n",
            "1      Top  24,99Â TND  dresses  shana.csv    shana\n",
            "                    Product    Price category   Filename Retailer\n",
            "0  Robe texturÃ©e imprimÃ©e  119 TND  dresses  mango.csv    mango\n",
            "1  Robe texturÃ©e imprimÃ©e  119 TND  dresses  mango.csv    mango\n",
            "                           Product        Price category Filename Retailer\n",
            "0       Pantacheville formel femme  69,990Â TND    pants   HA.csv       HA\n",
            "1  Jeans coupe High Rise Straight   69,990Â TND    pants   HA.csv       HA\n",
            "                                             Product  ... Retailer\n",
            "0    Robe blouse noire en jean Ã  manches bouffantes  ...    drest\n",
            "1  NAFNAF â Robe dâÃ©tÃ© femme Ã  manches tra...  ...    drest\n",
            "\n",
            "[2 rows x 5 columns]\n"
          ],
          "name": "stdout"
        }
      ]
    },
    {
      "cell_type": "code",
      "metadata": {
        "colab": {
          "base_uri": "https://localhost:8080/"
        },
        "id": "yaLxV4hNh8T6",
        "outputId": "1011dedd-6800-4ccb-bab8-5a6d88cf538c"
      },
      "source": [
        "my_dataframes"
      ],
      "execution_count": 47,
      "outputs": [
        {
          "output_type": "execute_result",
          "data": {
            "text/plain": [
              "[                                   Product       Price  ...  Filename Retailer\n",
              " 0                  ROBE EN SATIN IMPRIMÃE  119,00 TND  ...  zara.csv     zara\n",
              " 1                            ROBE SATINÃE  119,00 TND  ...  zara.csv     zara\n",
              " 2               ROBE PORTEFEUILLE SATINÃE  119,00 TND  ...  zara.csv     zara\n",
              " 3    ROBE EN SATIN AVEC IMPRIMÃ Ã FLEURS  139,00 TND  ...  zara.csv     zara\n",
              " 4                            ROBE SATINÃE  139,00 TND  ...  zara.csv     zara\n",
              " ..                                     ...         ...  ...       ...      ...\n",
              " 185              CHOUCHOU FOULARD IMPRIMÃ   35,90 TND  ...  zara.csv     zara\n",
              " 186       TROUSSE MATELASSÃE ET IMPRIMÃE   35,90 TND  ...  zara.csv     zara\n",
              " 187       TROUSSE MATELASSÃE ET IMPRIMÃE   35,90 TND  ...  zara.csv     zara\n",
              " 188       TROUSSE MATELASSÃE ET IMPRIMÃE   59,90 TND  ...  zara.csv     zara\n",
              " 189       TROUSSE MATELASSÃE ET IMPRIMÃE   59,90 TND  ...  zara.csv     zara\n",
              " \n",
              " [190 rows x 5 columns],\n",
              "       Product        Price     category   Filename Retailer\n",
              " 0     Legging   54,99Â TND      dresses  shana.csv    shana\n",
              " 1         Top   24,99Â TND      dresses  shana.csv    shana\n",
              " 2    Ensemble  134,99Â TND      dresses  shana.csv    shana\n",
              " 3         Top   49,99Â TND      dresses  shana.csv    shana\n",
              " 4     Chemise   79,99Â TND      dresses  shana.csv    shana\n",
              " ..        ...          ...          ...        ...      ...\n",
              " 148     Jeans   63,99Â TND  accessories  shana.csv    shana\n",
              " 149   Chemise   79,99Â TND  accessories  shana.csv    shana\n",
              " 150       Sac   29,99Â TND  accessories  shana.csv    shana\n",
              " 151       Sac   29,99Â TND  accessories  shana.csv    shana\n",
              " 152       Sac   34,99Â TND  accessories  shana.csv    shana\n",
              " \n",
              " [153 rows x 5 columns],\n",
              "                                  Product      Price  ...   Filename Retailer\n",
              " 0               Robe texturÃ©e imprimÃ©e    119 TND  ...  mango.csv    mango\n",
              " 1               Robe texturÃ©e imprimÃ©e    119 TND  ...  mango.csv    mango\n",
              " 2                Salopette denim Wideleg    189 TND  ...  mango.csv    mango\n",
              " 3                  Robe imprimÃ©e nÅuds    139 TND  ...  mango.csv    mango\n",
              " 4                  Robe imprimÃ©e nÅuds    139 TND  ...  mango.csv    mango\n",
              " ..                                   ...        ...  ...        ...      ...\n",
              " 395              CrÃ©oles irrÃ©guliÃ¨res  45,90 TND  ...  mango.csv    mango\n",
              " 396              CrÃ©oles irrÃ©guliÃ¨res  45,90 TND  ...  mango.csv    mango\n",
              " 397  Set boucles dâoreilles combinÃ©es  45,90 TND  ...  mango.csv    mango\n",
              " 398  Set boucles dâoreilles combinÃ©es  45,90 TND  ...  mango.csv    mango\n",
              " 399                             CrÃ©oles  45,90 TND  ...  mango.csv    mango\n",
              " \n",
              " [400 rows x 5 columns],\n",
              "                                      Product        Price  ... Filename Retailer\n",
              " 0                 Pantacheville formel femme  69,990Â TND  ...   HA.csv       HA\n",
              " 1            Jeans coupe High Rise Straight   69,990Â TND  ...   HA.csv       HA\n",
              " 2                            Pantalon femme   59,990Â TND  ...   HA.csv       HA\n",
              " 3                 Pantalon avec cordon femme  59,990Â TND  ...   HA.csv       HA\n",
              " 4      Pantalon large imprimÃ© gÃ©omÃ©trique  39,990Â TND  ...   HA.csv       HA\n",
              " 5                Pantalon large gaufre femme  49,990Â TND  ...   HA.csv       HA\n",
              " 6           Pantalon avec ceinture Ã  nouer   59,990Â TND  ...   HA.csv       HA\n",
              " 7           Pantalon large cropped cÃ´telÃ©   39,990Â TND  ...   HA.csv       HA\n",
              " 8          Pantacheville en gabardine  femme  59,990Â TND  ...   HA.csv       HA\n",
              " 9                       Pantalon denim femme  69,990Â TND  ...   HA.csv       HA\n",
              " 10                Pantacheville formel femme  69,990Â TND  ...   HA.csv       HA\n",
              " 11                     Pantalon flare femme   79,990Â TND  ...   HA.csv       HA\n",
              " 12                              Gilet femme   99,990Â TND  ...   HA.csv       HA\n",
              " 13                              Gilet femme   79,990Â TND  ...   HA.csv       HA\n",
              " 14                              Gilet femme   69,990Â TND  ...   HA.csv       HA\n",
              " 15         Twin-set imprimÃ© ethnique femme   59,990Â TND  ...   HA.csv       HA\n",
              " 16  Gilet long cÃ´telÃ© munie d'une ceinture  49,990Â TND  ...   HA.csv       HA\n",
              " 17                     Gilet kimono imprimÃ©  19,990Â TND  ...   HA.csv       HA\n",
              " 18                              Gilet femme   89,990Â TND  ...   HA.csv       HA\n",
              " 19                   Gilet court avec nÅud   29,990Â TND  ...   HA.csv       HA\n",
              " 20                        Gilet sans manches  89,990Â TND  ...   HA.csv       HA\n",
              " 21                         Gilet long kimono  49,990Â TND  ...   HA.csv       HA\n",
              " 22                          Gilet long femme  99,990Â TND  ...   HA.csv       HA\n",
              " 23             Gilet long en fausse fourrure  89,990Â TND  ...   HA.csv       HA\n",
              " 24                             T-Shirt femme  39,990Â TND  ...   HA.csv       HA\n",
              " 25                            T-Shirt femme   39,990Â TND  ...   HA.csv       HA\n",
              " 26                            T-Shirt femme   25,990Â TND  ...   HA.csv       HA\n",
              " 27                                 Top femme  19,990Â TND  ...   HA.csv       HA\n",
              " 28                    Tunique cÃ´telÃ© femme  39,990Â TND  ...   HA.csv       HA\n",
              " 29      T-Shirt imprimÃ© gÃ©omÃ©trique femme  35,990Â TND  ...   HA.csv       HA\n",
              " 30                         DÃ©bardeur femme   15,990Â TND  ...   HA.csv       HA\n",
              " 31                             T-Shirt femme  29,990Â TND  ...   HA.csv       HA\n",
              " 32      T-Shirt imprimÃ© gÃ©omÃ©trique femme  35,990Â TND  ...   HA.csv       HA\n",
              " 33               Top gaufre col bardot femme  25,990Â TND  ...   HA.csv       HA\n",
              " 34                            T-Shirt femme   29,990Â TND  ...   HA.csv       HA\n",
              " 35                             T-Shirt femme  35,990Â TND  ...   HA.csv       HA\n",
              " 36             Robe mi-longue Ã  col chemise  89,990Â TND  ...   HA.csv       HA\n",
              " 37              Robe midi rayÃ©e aspect lin   79,990Â TND  ...   HA.csv       HA\n",
              " 38                      Ensemble short femme  39,990Â TND  ...   HA.csv       HA\n",
              " 39                            T-Shirt femme   25,990Â TND  ...   HA.csv       HA\n",
              " 40                              Short femme   25,990Â TND  ...   HA.csv       HA\n",
              " 41             Soutien-gorge dentelle paddÃ©  44,990Â TND  ...   HA.csv       HA\n",
              " 42      Soutien-gorge dentelle Extra Push Up  49,990Â TND  ...   HA.csv       HA\n",
              " 43      Soutien-gorge dentelle Extra Push Up  49,990Â TND  ...   HA.csv       HA\n",
              " 44            Soutien-gorge dentelle Push Up  44,990Â TND  ...   HA.csv       HA\n",
              " 45         Soutien-gorge dentelle emboitant   44,990Â TND  ...   HA.csv       HA\n",
              " 46      Soutien-gorge dentelle Extra Push Up  39,990Â TND  ...   HA.csv       HA\n",
              " 47         Soutien-gorge Basic Extra Push Up  39,990Â TND  ...   HA.csv       HA\n",
              " 48                    Soutien-gorge dentelle  39,990Â TND  ...   HA.csv       HA\n",
              " 49             Soutien-gorge dentelle souple  39,990Â TND  ...   HA.csv       HA\n",
              " 50            Soutien-gorge dentelle Push Up  39,990Â TND  ...   HA.csv       HA\n",
              " 51          Soutien-gorge dentelle emboitant  39,990Â TND  ...   HA.csv       HA\n",
              " 52          Soutien-gorge dentelle emboitant  39,990Â TND  ...   HA.csv       HA\n",
              " 53        Soutien-gorge Basic Extra Push Up   35,990Â TND  ...   HA.csv       HA\n",
              " 54               Soutien-gorge Basic Push Up  35,990Â TND  ...   HA.csv       HA\n",
              " 55               Soutien-gorge Basic Bandeau  35,990Â TND  ...   HA.csv       HA\n",
              " 56           Soutien-gorge en coton imprimÃ©  29,990Â TND  ...   HA.csv       HA\n",
              " 57               Soutien-gorge Extra Push Up  29,990Â TND  ...   HA.csv       HA\n",
              " 58         Soutien-gorge Basic Extra Push Up  29,990Â TND  ...   HA.csv       HA\n",
              " 59                   Soutien-gorge dentelle   44,990Â TND  ...   HA.csv       HA\n",
              " \n",
              " [60 rows x 5 columns],\n",
              "                                                Product  ... Retailer\n",
              " 0      Robe blouse noire en jean Ã  manches bouffantes  ...    drest\n",
              " 1    NAFNAF â Robe dâÃ©tÃ© femme Ã  manches tra...  ...    drest\n",
              " 2          NAFNAF â Robe courte col V en Bleu marine  ...    drest\n",
              " 3       NewLook â Pale Blue Floral Belted Mini Dress  ...    drest\n",
              " 4      NAFNAF â Robe femme, col V croisÃ© avec nÅud  ...    drest\n",
              " ..                                                 ...  ...      ...\n",
              " 357                     GUILD â Doctorâs Bag White  ...    drest\n",
              " 358         MOA â BOUCLE OREILLE COULEUR NOIR/MARRON  ...    drest\n",
              " 359           MOA â BOUCLE OREILLE COULEUR OR/MARRON  ...    drest\n",
              " 360           MOA â BOUCLE OREILLE COULEUR MARRON/OR  ...    drest\n",
              " 361            MIGATO-Sac Ã  main verni beige Ã  rabat  ...    drest\n",
              " \n",
              " [362 rows x 5 columns]]"
            ]
          },
          "metadata": {
            "tags": []
          },
          "execution_count": 47
        }
      ]
    },
    {
      "cell_type": "code",
      "metadata": {
        "id": "VYPbFcjqiLuY"
      },
      "source": [
        "#combining the 5 dataframes using the method concat from pandas \n",
        "complete_dataframe= pd.concat(my_dataframes)"
      ],
      "execution_count": 48,
      "outputs": []
    },
    {
      "cell_type": "code",
      "metadata": {
        "colab": {
          "base_uri": "https://localhost:8080/",
          "height": 203
        },
        "id": "dlWD8_wWiTGw",
        "outputId": "72e1d303-17d9-47ea-bde1-8c93b34b8bad"
      },
      "source": [
        "complete_dataframe.head()"
      ],
      "execution_count": 49,
      "outputs": [
        {
          "output_type": "execute_result",
          "data": {
            "text/html": [
              "<div>\n",
              "<style scoped>\n",
              "    .dataframe tbody tr th:only-of-type {\n",
              "        vertical-align: middle;\n",
              "    }\n",
              "\n",
              "    .dataframe tbody tr th {\n",
              "        vertical-align: top;\n",
              "    }\n",
              "\n",
              "    .dataframe thead th {\n",
              "        text-align: right;\n",
              "    }\n",
              "</style>\n",
              "<table border=\"1\" class=\"dataframe\">\n",
              "  <thead>\n",
              "    <tr style=\"text-align: right;\">\n",
              "      <th></th>\n",
              "      <th>Product</th>\n",
              "      <th>Price</th>\n",
              "      <th>category</th>\n",
              "      <th>Filename</th>\n",
              "      <th>Retailer</th>\n",
              "    </tr>\n",
              "  </thead>\n",
              "  <tbody>\n",
              "    <tr>\n",
              "      <th>0</th>\n",
              "      <td>ROBE EN SATIN IMPRIMÃE</td>\n",
              "      <td>119,00 TND</td>\n",
              "      <td>dresses</td>\n",
              "      <td>zara.csv</td>\n",
              "      <td>zara</td>\n",
              "    </tr>\n",
              "    <tr>\n",
              "      <th>1</th>\n",
              "      <td>ROBE SATINÃE</td>\n",
              "      <td>119,00 TND</td>\n",
              "      <td>dresses</td>\n",
              "      <td>zara.csv</td>\n",
              "      <td>zara</td>\n",
              "    </tr>\n",
              "    <tr>\n",
              "      <th>2</th>\n",
              "      <td>ROBE PORTEFEUILLE SATINÃE</td>\n",
              "      <td>119,00 TND</td>\n",
              "      <td>dresses</td>\n",
              "      <td>zara.csv</td>\n",
              "      <td>zara</td>\n",
              "    </tr>\n",
              "    <tr>\n",
              "      <th>3</th>\n",
              "      <td>ROBE EN SATIN AVEC IMPRIMÃ Ã FLEURS</td>\n",
              "      <td>139,00 TND</td>\n",
              "      <td>dresses</td>\n",
              "      <td>zara.csv</td>\n",
              "      <td>zara</td>\n",
              "    </tr>\n",
              "    <tr>\n",
              "      <th>4</th>\n",
              "      <td>ROBE SATINÃE</td>\n",
              "      <td>139,00 TND</td>\n",
              "      <td>dresses</td>\n",
              "      <td>zara.csv</td>\n",
              "      <td>zara</td>\n",
              "    </tr>\n",
              "  </tbody>\n",
              "</table>\n",
              "</div>"
            ],
            "text/plain": [
              "                                 Product       Price  ...  Filename Retailer\n",
              "0                ROBE EN SATIN IMPRIMÃE  119,00 TND  ...  zara.csv     zara\n",
              "1                          ROBE SATINÃE  119,00 TND  ...  zara.csv     zara\n",
              "2             ROBE PORTEFEUILLE SATINÃE  119,00 TND  ...  zara.csv     zara\n",
              "3  ROBE EN SATIN AVEC IMPRIMÃ Ã FLEURS  139,00 TND  ...  zara.csv     zara\n",
              "4                          ROBE SATINÃE  139,00 TND  ...  zara.csv     zara\n",
              "\n",
              "[5 rows x 5 columns]"
            ]
          },
          "metadata": {
            "tags": []
          },
          "execution_count": 49
        }
      ]
    },
    {
      "cell_type": "code",
      "metadata": {
        "colab": {
          "base_uri": "https://localhost:8080/",
          "height": 203
        },
        "id": "b0uAjAOuiU6r",
        "outputId": "63beb4e6-3b79-4a88-dd30-ca9cc2ec75b1"
      },
      "source": [
        "complete_dataframe.tail()"
      ],
      "execution_count": 50,
      "outputs": [
        {
          "output_type": "execute_result",
          "data": {
            "text/html": [
              "<div>\n",
              "<style scoped>\n",
              "    .dataframe tbody tr th:only-of-type {\n",
              "        vertical-align: middle;\n",
              "    }\n",
              "\n",
              "    .dataframe tbody tr th {\n",
              "        vertical-align: top;\n",
              "    }\n",
              "\n",
              "    .dataframe thead th {\n",
              "        text-align: right;\n",
              "    }\n",
              "</style>\n",
              "<table border=\"1\" class=\"dataframe\">\n",
              "  <thead>\n",
              "    <tr style=\"text-align: right;\">\n",
              "      <th></th>\n",
              "      <th>Product</th>\n",
              "      <th>Price</th>\n",
              "      <th>category</th>\n",
              "      <th>Filename</th>\n",
              "      <th>Retailer</th>\n",
              "    </tr>\n",
              "  </thead>\n",
              "  <tbody>\n",
              "    <tr>\n",
              "      <th>357</th>\n",
              "      <td>GUILD â Doctorâs Bag White</td>\n",
              "      <td>32.9 TND</td>\n",
              "      <td>accessories</td>\n",
              "      <td>drest.csv</td>\n",
              "      <td>drest</td>\n",
              "    </tr>\n",
              "    <tr>\n",
              "      <th>358</th>\n",
              "      <td>MOA â BOUCLE OREILLE COULEUR NOIR/MARRON</td>\n",
              "      <td>29.0 TND</td>\n",
              "      <td>accessories</td>\n",
              "      <td>drest.csv</td>\n",
              "      <td>drest</td>\n",
              "    </tr>\n",
              "    <tr>\n",
              "      <th>359</th>\n",
              "      <td>MOA â BOUCLE OREILLE COULEUR OR/MARRON</td>\n",
              "      <td>119.9 TND</td>\n",
              "      <td>accessories</td>\n",
              "      <td>drest.csv</td>\n",
              "      <td>drest</td>\n",
              "    </tr>\n",
              "    <tr>\n",
              "      <th>360</th>\n",
              "      <td>MOA â BOUCLE OREILLE COULEUR MARRON/OR</td>\n",
              "      <td>44.5 TND</td>\n",
              "      <td>accessories</td>\n",
              "      <td>drest.csv</td>\n",
              "      <td>drest</td>\n",
              "    </tr>\n",
              "    <tr>\n",
              "      <th>361</th>\n",
              "      <td>MIGATO-Sac Ã  main verni beige Ã  rabat</td>\n",
              "      <td>31.2 TND</td>\n",
              "      <td>accessories</td>\n",
              "      <td>drest.csv</td>\n",
              "      <td>drest</td>\n",
              "    </tr>\n",
              "  </tbody>\n",
              "</table>\n",
              "</div>"
            ],
            "text/plain": [
              "                                        Product      Price  ...   Filename Retailer\n",
              "357              GUILD â Doctorâs Bag White   32.9 TND  ...  drest.csv    drest\n",
              "358  MOA â BOUCLE OREILLE COULEUR NOIR/MARRON   29.0 TND  ...  drest.csv    drest\n",
              "359    MOA â BOUCLE OREILLE COULEUR OR/MARRON  119.9 TND  ...  drest.csv    drest\n",
              "360    MOA â BOUCLE OREILLE COULEUR MARRON/OR   44.5 TND  ...  drest.csv    drest\n",
              "361     MIGATO-Sac Ã  main verni beige Ã  rabat   31.2 TND  ...  drest.csv    drest\n",
              "\n",
              "[5 rows x 5 columns]"
            ]
          },
          "metadata": {
            "tags": []
          },
          "execution_count": 50
        }
      ]
    },
    {
      "cell_type": "code",
      "metadata": {
        "colab": {
          "base_uri": "https://localhost:8080/"
        },
        "id": "axVX78cLiYa0",
        "outputId": "4f1ffbed-e334-453f-8075-cbb949d907ff"
      },
      "source": [
        "complete_dataframe.shape"
      ],
      "execution_count": 51,
      "outputs": [
        {
          "output_type": "execute_result",
          "data": {
            "text/plain": [
              "(1165, 5)"
            ]
          },
          "metadata": {
            "tags": []
          },
          "execution_count": 51
        }
      ]
    },
    {
      "cell_type": "markdown",
      "metadata": {
        "id": "rqjOgrnikbgA"
      },
      "source": [
        "Our dataset have 1165 rows and 5 columns"
      ]
    },
    {
      "cell_type": "code",
      "metadata": {
        "id": "Ju0_uF4WidH2"
      },
      "source": [
        "complete_dataframe.to_csv('dataset.csv',index=False)"
      ],
      "execution_count": 52,
      "outputs": []
    }
  ]
}